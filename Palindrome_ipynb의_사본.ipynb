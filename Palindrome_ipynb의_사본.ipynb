{
  "nbformat": 4,
  "nbformat_minor": 0,
  "metadata": {
    "colab": {
      "provenance": [],
      "include_colab_link": true
    },
    "kernelspec": {
      "name": "python3",
      "display_name": "Python 3"
    },
    "language_info": {
      "name": "python"
    }
  },
  "cells": [
    {
      "cell_type": "markdown",
      "metadata": {
        "id": "view-in-github",
        "colab_type": "text"
      },
      "source": [
        "<a href=\"https://colab.research.google.com/github/maminseo/minseo/blob/main/Palindrome_ipynb%EC%9D%98_%EC%82%AC%EB%B3%B8.ipynb\" target=\"_parent\"><img src=\"https://colab.research.google.com/assets/colab-badge.svg\" alt=\"Open In Colab\"/></a>"
      ]
    },
    {
      "cell_type": "markdown",
      "source": [
        "List Stack"
      ],
      "metadata": {
        "id": "gyF7QF7fEFSJ"
      }
    },
    {
      "cell_type": "code",
      "execution_count": null,
      "metadata": {
        "id": "AxbENbAgD61H"
      },
      "outputs": [],
      "source": [
        "class ListStack:\n",
        "\tdef __init__(self):\n",
        "\t\tself.__stack = []\n",
        "\n",
        "\tdef push(self, x):\n",
        "\t\tself.__stack.append(x)\n",
        "\n",
        "\tdef pop(self):\n",
        "\t\treturn self.__stack.pop()\n",
        "\n",
        "\tdef top(self):\n",
        "\t\tif self.isEmpty():\n",
        "\t\t\treturn None\n",
        "\t\telse:\n",
        "\t\t\treturn self.__stack[-1]\n",
        "\n",
        "\tdef isEmpty(self) -> bool:\n",
        "\t\treturn not bool(self.__stack)\n",
        "\n",
        "\tdef popAll(self):\n",
        "\t\tself.__stack.clear()\n",
        "\n",
        "\tdef printStack(self):\n",
        "\t\tprint(\"Stack from top:\", end = ' ')\n",
        "\t\tfor i in range(len(self.__stack)-1, -1, -1):\n",
        "\t\t\tprint(self.__stack[i], end = ' ')\n",
        "\t\tprint()\n",
        "\n"
      ]
    },
    {
      "cell_type": "markdown",
      "source": [
        "List Queue"
      ],
      "metadata": {
        "id": "r5MV0ttYEI-6"
      }
    },
    {
      "cell_type": "code",
      "source": [
        "class ListQueue:\n",
        "\tdef __init__(self):\n",
        "\t\tself.__queue = []\n",
        "\n",
        "\tdef enqueue(self, x):\n",
        "\t\tself.__queue.append(x)\n",
        "\n",
        "\tdef dequeue(self):\n",
        "\t\treturn self.__queue.pop(0) # .pop(0): 리스트의 첫 원소를 삭제한 후 원소 리턴\n",
        "\n",
        "\tdef front(self):\n",
        "\t\tif self.isEmpty():\n",
        "\t\t\treturn None\n",
        "\t\telse:\n",
        "\t\t\treturn self.__queue[0]\n",
        "\n",
        "\tdef isEmpty(self) -> bool:\n",
        "\t\treturn (len(self.__queue) == 0);\n",
        "\n",
        "\tdef dequeueAll(self):\n",
        "\t\tself.__queue.clear()\n",
        "\n",
        "\tdef printQueue(self):\n",
        "\t\tprint(\"Queue from front:\", end = ' ')\n",
        "\t\tfor i in range(len(self.__queue)):\n",
        "\t\t\tprint(self.__queue[i], end = ' ')\n",
        "\t\tprint()\n",
        "\n"
      ],
      "metadata": {
        "id": "HuC4PfBTEKlF"
      },
      "execution_count": null,
      "outputs": []
    },
    {
      "cell_type": "markdown",
      "source": [
        "Palindrome Test"
      ],
      "metadata": {
        "id": "4srv9Yo8ETki"
      }
    },
    {
      "cell_type": "code",
      "source": [
        "def isPalindrome(A) -> bool:\n",
        "\ts = ListStack(); q = ListQueue()\n",
        "\tfor i in range(len(A)):\n",
        "\t\ts.push(A[i]); q.enqueue(A[i])\n",
        "\twhile (not q.isEmpty()) and s.pop() == q.dequeue():\n",
        "\t\t{}\n",
        "\tif q.isEmpty():\n",
        "\t\treturn True\n",
        "\telse:\n",
        "\t\treturn False\n",
        "\n",
        "def main():\n",
        "\tprint(\"Palindrome Check!\")\n",
        "\tstr = '우영우영우영우영우' # 테스트 문자열\n",
        "\tt = isPalindrome(str)\n",
        "\tprint(str, \" is Palindrome?: \", t)\n",
        "\n",
        "if __name__ == \"__main__\":\n",
        "\tmain()\n"
      ],
      "metadata": {
        "colab": {
          "base_uri": "https://localhost:8080/"
        },
        "id": "_K-ZFatUEWjQ",
        "outputId": "3fd66336-498a-4c3c-e80c-3beb9bd305d6"
      },
      "execution_count": null,
      "outputs": [
        {
          "output_type": "stream",
          "name": "stdout",
          "text": [
            "Palindrome Check!\n",
            "우영우영우영우영우  is Palindrome?:  True\n"
          ]
        }
      ]
    }
  ]
}