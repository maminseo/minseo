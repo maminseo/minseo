{
 "cells": [
  {
   "cell_type": "code",
   "execution_count": 8,
   "id": "b789fcd5-47af-4afc-9902-df74a50f799e",
   "metadata": {},
   "outputs": [
    {
     "name": "stdout",
     "output_type": "stream",
     "text": [
      "20 30 \n"
     ]
    }
   ],
   "source": [
    "# pypi 과제 실행 예시\n",
    "\n",
    "import min1129.ListNode\n",
    "import min1129.LinkedList as ll\n",
    "\n",
    "list= ll.LinkedListBasic()\n",
    "list.append(30); list.insert(0, 20)\n",
    "a = [4, 3, 3, 2, 1]\n",
    "list.printList()\n"
   ]
  },
  {
   "cell_type": "code",
   "execution_count": null,
   "id": "7a405b28-1421-4467-94f2-6d88710ff3f6",
   "metadata": {},
   "outputs": [],
   "source": []
  }
 ],
 "metadata": {
  "kernelspec": {
   "display_name": "Python 3 (ipykernel)",
   "language": "python",
   "name": "python3"
  },
  "language_info": {
   "codemirror_mode": {
    "name": "ipython",
    "version": 3
   },
   "file_extension": ".py",
   "mimetype": "text/x-python",
   "name": "python",
   "nbconvert_exporter": "python",
   "pygments_lexer": "ipython3",
   "version": "3.11.5"
  }
 },
 "nbformat": 4,
 "nbformat_minor": 5
}
