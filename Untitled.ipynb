{
 "cells": [
  {
   "cell_type": "code",
   "execution_count": 8,
   "id": "b789fcd5-47af-4afc-9902-df74a50f799e",
   "metadata": {},
   "outputs": [
    {
     "name": "stdout",
     "output_type": "stream",
     "text": [
      "20 30 \n"
     ]
    }
   ],
   "source": [
    "# pypi 과제 실행 예시\n",
    "\n",
    "import min1129.ListNode\n",
    "import min1129.LinkedList as ll\n",
    "\n",
    "list= ll.LinkedListBasic()\n",
    "list.append(30); list.insert(0, 20)\n",
    "a = [4, 3, 3, 2, 1]\n",
    "list.printList()\n"
   ]
  },
  {
   "cell_type": "code",
   "execution_count": 11,
   "id": "7a405b28-1421-4467-94f2-6d88710ff3f6",
   "metadata": {},
   "outputs": [
    {
     "name": "stdout",
     "output_type": "stream",
     "text": [
      "['아이언맨', '토르', '캡틴아메리카', '헐크', '엔트맨']\n"
     ]
    }
   ],
   "source": [
    "student_list=['아이언맨','토르','캡틴아메리카']\n",
    "\n",
    "student_list.append('헐크')\n",
    "student_list.append('엔트맨')\n",
    "print(student_list)"
   ]
  },
  {
   "cell_type": "code",
   "execution_count": 11,
   "id": "2d657732",
   "metadata": {},
   "outputs": [
    {
     "name": "stdout",
     "output_type": "stream",
     "text": [
      "820 82.0\n"
     ]
    }
   ],
   "source": [
    "a = [65, 75, 85, 90, 100, 95, 100, 60, 70, 80]\n",
    "sum = 0\n",
    "for i in range(len(a)):\n",
    "    sum+=a[i]\n",
    "avg=sum/len(a)\n",
    "\n",
    "\n",
    "print(sum,avg)\n",
    "    "
   ]
  },
  {
   "cell_type": "code",
   "execution_count": 13,
   "id": "cdf38972",
   "metadata": {},
   "outputs": [
    {
     "name": "stdout",
     "output_type": "stream",
     "text": [
      "1988\n",
      "1992\n",
      "1996\n",
      "2000\n",
      "2004\n",
      "2008\n",
      "2012\n",
      "2016\n",
      "2020\n",
      "2024\n",
      "2028\n"
     ]
    }
   ],
   "source": [
    "for year in range(1988, 2031, 4):  \n",
    "    print(year)"
   ]
  },
  {
   "cell_type": "code",
   "execution_count": 14,
   "id": "94a88a3b",
   "metadata": {},
   "outputs": [
    {
     "name": "stdout",
     "output_type": "stream",
     "text": [
      "1 x 1 = 1\n",
      "1 x 2 = 2\n",
      "1 x 3 = 3\n",
      "1 x 4 = 4\n",
      "1 x 5 = 5\n",
      "1 x 6 = 6\n",
      "1 x 7 = 7\n",
      "1 x 8 = 8\n",
      "1 x 9 = 9\n",
      "\n",
      "2 x 1 = 2\n",
      "2 x 2 = 4\n",
      "2 x 3 = 6\n",
      "2 x 4 = 8\n",
      "2 x 5 = 10\n",
      "2 x 6 = 12\n",
      "2 x 7 = 14\n",
      "2 x 8 = 16\n",
      "2 x 9 = 18\n",
      "\n",
      "3 x 1 = 3\n",
      "3 x 2 = 6\n",
      "3 x 3 = 9\n",
      "3 x 4 = 12\n",
      "3 x 5 = 15\n",
      "3 x 6 = 18\n",
      "3 x 7 = 21\n",
      "3 x 8 = 24\n",
      "3 x 9 = 27\n",
      "\n",
      "4 x 1 = 4\n",
      "4 x 2 = 8\n",
      "4 x 3 = 12\n",
      "4 x 4 = 16\n",
      "4 x 5 = 20\n",
      "4 x 6 = 24\n",
      "4 x 7 = 28\n",
      "4 x 8 = 32\n",
      "4 x 9 = 36\n",
      "\n",
      "5 x 1 = 5\n",
      "5 x 2 = 10\n",
      "5 x 3 = 15\n",
      "5 x 4 = 20\n",
      "5 x 5 = 25\n",
      "5 x 6 = 30\n",
      "5 x 7 = 35\n",
      "5 x 8 = 40\n",
      "5 x 9 = 45\n",
      "\n",
      "6 x 1 = 6\n",
      "6 x 2 = 12\n",
      "6 x 3 = 18\n",
      "6 x 4 = 24\n",
      "6 x 5 = 30\n",
      "6 x 6 = 36\n",
      "6 x 7 = 42\n",
      "6 x 8 = 48\n",
      "6 x 9 = 54\n",
      "\n",
      "7 x 1 = 7\n",
      "7 x 2 = 14\n",
      "7 x 3 = 21\n",
      "7 x 4 = 28\n",
      "7 x 5 = 35\n",
      "7 x 6 = 42\n",
      "7 x 7 = 49\n",
      "7 x 8 = 56\n",
      "7 x 9 = 63\n",
      "\n",
      "8 x 1 = 8\n",
      "8 x 2 = 16\n",
      "8 x 3 = 24\n",
      "8 x 4 = 32\n",
      "8 x 5 = 40\n",
      "8 x 6 = 48\n",
      "8 x 7 = 56\n",
      "8 x 8 = 64\n",
      "8 x 9 = 72\n",
      "\n",
      "9 x 1 = 9\n",
      "9 x 2 = 18\n",
      "9 x 3 = 27\n",
      "9 x 4 = 36\n",
      "9 x 5 = 45\n",
      "9 x 6 = 54\n",
      "9 x 7 = 63\n",
      "9 x 8 = 72\n",
      "9 x 9 = 81\n",
      "\n"
     ]
    }
   ],
   "source": [
    "for i in range(1, 10):        \n",
    "    for j in range(1, 10):    \n",
    "        print(f\"{i} x {j} = {i * j}\")  \n",
    "    print() \n"
   ]
  },
  {
   "cell_type": "code",
   "execution_count": 17,
   "id": "e3b78ebd",
   "metadata": {},
   "outputs": [
    {
     "name": "stdout",
     "output_type": "stream",
     "text": [
      "1\n",
      "3\n",
      "6\n",
      "10\n",
      "15\n",
      "21\n",
      "28\n",
      "36\n",
      "45\n",
      "55\n"
     ]
    }
   ],
   "source": [
    "num = 1\n",
    "sum = 0\n",
    "while num <= 10:\n",
    "    sum += num\n",
    "    print(sum)\n",
    "    num = num + 1 "
   ]
  },
  {
   "cell_type": "code",
   "execution_count": 19,
   "id": "6986a56a",
   "metadata": {},
   "outputs": [
    {
     "name": "stdout",
     "output_type": "stream",
     "text": [
      "70.0\n",
      "49.0\n",
      "34.3\n",
      "24.009999999999998\n",
      "16.807\n",
      "11.764899999999999\n",
      "8.23543\n",
      "5.764800999999999\n",
      "4.035360699999999\n",
      "2.8247524899999994\n",
      "1.9773267429999994\n"
     ]
    }
   ],
   "source": [
    "b=0\n",
    "h = 100\n",
    "while b<=10:\n",
    "    h = h * 0.7\n",
    "    print(h)\n",
    "    b = b + 1\n",
    "\n",
    "    "
   ]
  },
  {
   "cell_type": "code",
   "execution_count": null,
   "id": "cf2d1148",
   "metadata": {},
   "outputs": [],
   "source": [
    "a=10\n",
    "b=4\n",
    "print(a+b)\n",
    "print(a-b)\n",
    "print(a*b)\n",
    "print(a%b)\n",
    "print(a//b)\n",
    "print(a**b)"
   ]
  }
 ],
 "metadata": {
  "kernelspec": {
   "display_name": "Python 3",
   "language": "python",
   "name": "python3"
  },
  "language_info": {
   "codemirror_mode": {
    "name": "ipython",
    "version": 3
   },
   "file_extension": ".py",
   "mimetype": "text/x-python",
   "name": "python",
   "nbconvert_exporter": "python",
   "pygments_lexer": "ipython3",
   "version": "3.12.0"
  }
 },
 "nbformat": 4,
 "nbformat_minor": 5
}
