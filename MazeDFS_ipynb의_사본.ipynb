{
  "cells": [
    {
      "cell_type": "markdown",
      "metadata": {
        "colab_type": "text",
        "id": "view-in-github"
      },
      "source": [
        "<a href=\"https://colab.research.google.com/github/maminseo/minseo/blob/main/MazeDFS_ipynb%EC%9D%98_%EC%82%AC%EB%B3%B8.ipynb\" target=\"_parent\"><img src=\"https://colab.research.google.com/assets/colab-badge.svg\" alt=\"Open In Colab\"/></a>"
      ]
    },
    {
      "cell_type": "markdown",
      "metadata": {
        "id": "M32h0v1nLOPv"
      },
      "source": [
        "**미로의 깊이우선탐색**"
      ]
    },
    {
      "cell_type": "markdown",
      "metadata": {
        "id": "OZ8_Z5XYRiZO"
      },
      "source": [
        "Array Stack"
      ]
    },
    {
      "cell_type": "code",
      "execution_count": null,
      "metadata": {
        "id": "NCm35KQaRfGY"
      },
      "outputs": [],
      "source": [
        "class ArrayStack :\n",
        "    def __init__( self, capacity ):\t        # 생성자 정의\n",
        "        self.capacity = capacity\t\t    # 용량(고정)\n",
        "        self.array = [None]*self.capacity\t# 요소들을 저장할 배열\n",
        "        self.top = -1\t\t\t            # 스택 상단의 인덱스\n",
        "\n",
        "    # 코드 1.2b: 스택 클래스의 연산들\n",
        "    def isEmpty( self ) :\n",
        "       return self.top == -1\n",
        "\n",
        "    def isFull( self ) :\n",
        "       return self.top == self.capacity-1\n",
        "\n",
        "    def push( self, item ):\n",
        "        if not self.isFull() :\n",
        "            self.top += 1\n",
        "            self.array[self.top] = item\n",
        "        else: pass              # overflow 예외는 처리하지 않았음\n",
        "\n",
        "    def pop( self ):\n",
        "        if not self.isEmpty():\n",
        "            self.top -= 1\n",
        "            return self.array[self.top+1]\n",
        "        else: pass              # underflow 예외는 처리하지 않았음\n",
        "\n",
        "    def peek( self ):\n",
        "        if not self.isEmpty():\n",
        "            return self.array[self.top]\n",
        "        else: pass              # underflow 예외는 처리하지 않았음\n",
        "\n",
        "    def __str__(self ) :\n",
        "        return str(self.array[0:self.top+1][::-1])\n",
        "\n",
        "    def size( self ) : return self.top+1"
      ]
    },
    {
      "cell_type": "markdown",
      "metadata": {
        "id": "fORQARI5Rq4X"
      },
      "source": [
        "미로설정"
      ]
    },
    {
      "cell_type": "code",
      "execution_count": null,
      "metadata": {
        "id": "xiCN7nC1KbIi"
      },
      "outputs": [],
      "source": [
        "map =[[ '1', '0', '1', '1', '1', '1' ],\n",
        "\t  [ 'e', '0', '0', '0', '0', '1' ],\n",
        "\t  [ '1', '0', '1', '1', '1', '1' ],\n",
        "\t  [ '1', '0', '0', '1', '0', 'x' ],\n",
        "\t  [ '1', '0', '0', '0', '0', '1' ],\n",
        "\t  [ '1', '1', '1', '1', '1', '1' ]]\n",
        "MAZE_SIZE = 6\n",
        "\n",
        "map0 =[[ '1', '1', '1', '1', '1', '1' ],\n",
        "\t  [ 'e', '0', '0', '0', '0', '1' ],\n",
        "\t  [ '1', '0', '1', '0', '1', '1' ],\n",
        "\t  [ '1', '1', '1', '0', '0', 'x' ],\n",
        "\t  [ '1', '1', '1', '0', '1', '1' ],\n",
        "\t  [ '1', '1', '1', '1', '1', '1' ]]\n",
        "MAZE_SIZE = 6"
      ]
    },
    {
      "cell_type": "markdown",
      "metadata": {
        "id": "PzC-SbX5LpeW"
      },
      "source": [
        "갈 수 있는 위치인지를 판단하는 알고리즘"
      ]
    },
    {
      "cell_type": "code",
      "execution_count": null,
      "metadata": {
        "id": "Ff8vau7ELMup"
      },
      "outputs": [],
      "source": [
        "def isValidPos(x, y) :\t\t# (x,y)가 갈 수 있는 방인지 검사하는 함수\n",
        "    if 0 <= x < MAZE_SIZE and 0 <= y < MAZE_SIZE :\n",
        "        if map[y][x] == '0' or map[y][x] == 'x':  # 값이 0이면 갈 수 있는 곳, 값이 x면 출구\n",
        "            return True\n",
        "    return False  # 값이 1이면 갈 수 없는 곳"
      ]
    },
    {
      "cell_type": "markdown",
      "metadata": {
        "id": "-xX_giI-QdK4"
      },
      "source": [
        "깊이우선 탐색함수"
      ]
    },
    {
      "cell_type": "code",
      "execution_count": null,
      "metadata": {
        "colab": {
          "base_uri": "https://localhost:8080/"
        },
        "id": "qMPMu4WbLwEC",
        "outputId": "98e3c4cd-9fa8-4c1f-ec23-1babe1fbe0f5"
      },
      "outputs": [
        {
          "name": "stdout",
          "output_type": "stream",
          "text": [
            "DFS: \n",
            "(0, 1)-> 현재 스택:  [(1, 1)]\n",
            "(1, 1)-> 현재 스택:  [(1, 2), (2, 1), (1, 0)]\n",
            "(1, 2)-> 현재 스택:  [(1, 3), (2, 1), (1, 0)]\n",
            "(1, 3)-> 현재 스택:  [(1, 4), (2, 3), (2, 1), (1, 0)]\n",
            "(1, 4)-> 현재 스택:  [(2, 4), (2, 3), (2, 1), (1, 0)]\n",
            "(2, 4)-> 현재 스택:  [(3, 4), (2, 3), (2, 3), (2, 1), (1, 0)]\n",
            "(3, 4)-> 현재 스택:  [(4, 4), (2, 3), (2, 3), (2, 1), (1, 0)]\n",
            "(4, 4)-> 현재 스택:  [(4, 3), (2, 3), (2, 3), (2, 1), (1, 0)]\n",
            "(4, 3)-> 현재 스택:  [(5, 3), (2, 3), (2, 3), (2, 1), (1, 0)]\n",
            "(5, 3)-> --> 미로탐색 성공\n"
          ]
        }
      ],
      "source": [
        "def DFS() :\t\t\t# 깊이우선탐색 함수\n",
        "    print('DFS: ')\n",
        "    stack = ArrayStack(100)\t# 사용할 덱 객체를 준비\n",
        "    stack.push((0,1))\t\t# 후단(top)에 시작위치 삽입. (0,1)은 튜플\n",
        "\n",
        "    while not stack.isEmpty(): \t# 공백이 아닐 동안\n",
        "        here = stack.pop()      # 스택 탑에서 항목을 꺼냄(pop)\n",
        "        print(here, end='->')\n",
        "        (x,y) = here\n",
        "\n",
        "        if (map[y][x] == 'x') :\t# 출구이면 성공. True 반환\n",
        "            return True\n",
        "        else :\n",
        "            map[y][x] = '.'\t# 현재위치를 지나왔다고 ’.’표시\n",
        "            # 상/우/하/좌 순서로 갈 수 있는 길이면 스택에 push\n",
        "            if isValidPos(x, y - 1): stack.push((x, y - 1)) # 상\n",
        "            if isValidPos(x + 1, y): stack.push((x + 1, y)) # 우\n",
        "            if isValidPos(x, y + 1): stack.push((x, y + 1)) # 하\n",
        "            if isValidPos(x - 1, y): stack.push((x - 1, y)) # 좌\n",
        "        print(' 현재 스택: ', stack)  # 스택내의 모든 원소들을 프린\n",
        "    return False  # 탐색 실패\n",
        "\n",
        "result = DFS()  # DFS() 수행\n",
        "if result : print(' --> 미로탐색 성공')\n",
        "else : print(' --> 미로탐색 실패')"
      ]
    }
  ],
  "metadata": {
    "colab": {
      "include_colab_link": true,
      "provenance": []
    },
    "kernelspec": {
      "display_name": "Python 3",
      "name": "python3"
    },
    "language_info": {
      "name": "python"
    }
  },
  "nbformat": 4,
  "nbformat_minor": 0
}
