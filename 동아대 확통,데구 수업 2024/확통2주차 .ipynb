{
 "cells": [
  {
   "cell_type": "code",
   "execution_count": 1,
   "id": "52853f72-4ed0-4da0-a3a1-2876a0decd3a",
   "metadata": {
    "tags": []
   },
   "outputs": [
    {
     "name": "stdout",
     "output_type": "stream",
     "text": [
      "    이름 성별  점수  출석\n",
      "0  손선영  남  10  17\n",
      "1  김영주  여  12  17\n",
      "2  이희진  여  15  19\n",
      "3  정지민  남   7  15\n",
      "4  김윤미  여   9  14\n",
      "5  고상준  남  15  20\n",
      "6  박혜진  여  10  15\n",
      "7  유인석  남  16  20\n",
      "8  최나리  여   8  16\n",
      "9  김웅기  남   5  10\n"
     ]
    }
   ],
   "source": [
    "import pandas as pd\n",
    "\n",
    "file_df = pd.read_csv(\"C:/Users/darkr/OneDrive/Desktop/2학년1학기/확통/sample1.csv\")\n",
    "\n",
    "print(file_df)"
   ]
  },
  {
   "cell_type": "code",
   "execution_count": 4,
   "id": "b275e729-c5b5-4f4f-8ceb-3334d4ba29d6",
   "metadata": {
    "tags": []
   },
   "outputs": [
    {
     "name": "stdout",
     "output_type": "stream",
     "text": [
      "    이름 성별  점수  출석\n",
      "0  손선영  남  10  17\n",
      "1  김영주  여  12  17\n",
      "2  이희진  여  15  19\n",
      "3  정지민  남   7  15\n",
      "4  김윤미  여   9  14\n",
      "5  고상준  남  15  20\n",
      "6  박혜진  여  10  15\n",
      "7  유인석  남  16  20\n",
      "8  최나리  여   8  16\n",
      "9  김웅기  남   5  10\n"
     ]
    }
   ],
   "source": [
    "import pandas as pd\n",
    "\n",
    "file_df = pd.read_csv(\"C:/Users/darkr/OneDrive/Desktop/2학년1학기/확통/sample2.txt\", encoding=\"UTF-8\")\n",
    "\n",
    "print(file_df)"
   ]
  },
  {
   "cell_type": "code",
   "execution_count": 5,
   "id": "875067a7-8aec-4ab9-a3fb-977c428cdeff",
   "metadata": {
    "tags": []
   },
   "outputs": [
    {
     "name": "stdout",
     "output_type": "stream",
     "text": [
      "    이름 성별  점수  출석\n",
      "0  손선영  남  10  17\n",
      "1  김영주  여  12  17\n",
      "2  이희진  여  15  19\n",
      "3  정지민  남   7  15\n",
      "4  김윤미  여   9  14\n",
      "5  고상준  남  15  20\n",
      "6  박혜진  여  10  15\n",
      "7  유인석  남  16  20\n",
      "8  최나리  여   8  16\n",
      "9  김웅기  남   5  10\n"
     ]
    }
   ],
   "source": [
    "import pandas as pd\n",
    "\n",
    "file_df = pd.read_csv(\"C:/Users/darkr/OneDrive/Desktop/2학년1학기/확통/sample3.txt\",sep='\\t', encoding=\"UTF-8\")\n",
    "\n",
    "print(file_df)"
   ]
  },
  {
   "cell_type": "code",
   "execution_count": 6,
   "id": "9f012951-8d42-4b3f-b884-640804d6c370",
   "metadata": {
    "tags": []
   },
   "outputs": [
    {
     "name": "stdout",
     "output_type": "stream",
     "text": [
      "    이름 성별  점수  출석\n",
      "0  손선영  남  10  17\n",
      "1  김영주  여  12  17\n",
      "2  이희진  녀  15  19\n",
      "3  정지민  남   7  15\n",
      "4  김윤미  여   9  14\n",
      "5  고상준  남  15  20\n",
      "6  박혜진  여  10  15\n",
      "7  유인석  남  16  20\n",
      "8  최나리  여   8  16\n",
      "9  김웅기  남   5  10\n"
     ]
    }
   ],
   "source": [
    "import pandas as pd\n",
    "\n",
    "file_df = pd.read_excel(\"C:/Users/darkr/OneDrive/Desktop/2학년1학기/확통/sample4.xlsx\")\n",
    "\n",
    "print(file_df)"
   ]
  },
  {
   "cell_type": "code",
   "execution_count": 14,
   "id": "da32c546-569d-491a-b03d-3d4589ec8b6c",
   "metadata": {
    "tags": []
   },
   "outputs": [
    {
     "name": "stdout",
     "output_type": "stream",
     "text": [
      "[0. 0. 0.]\n",
      "[[0. 0. 0.]\n",
      " [0. 0. 0.]]\n",
      "[7 7 7]\n",
      "4\n"
     ]
    }
   ],
   "source": [
    "import numpy as np\n",
    "a=np.zeros(3)\n",
    "b=np.zeros([2,3])\n",
    "c=np.tile(7,3)\n",
    "d=np.array([[1,2,3,4,5],[6,7,8,9,10]])\n",
    "\n",
    "print(a)\n",
    "print(b)\n",
    "print(c)\n",
    "print(d[0,3])"
   ]
  },
  {
   "cell_type": "code",
   "execution_count": 9,
   "id": "6bb48cc7-8017-4f3f-bd87-4e938d85d7d7",
   "metadata": {},
   "outputs": [
    {
     "name": "stdout",
     "output_type": "stream",
     "text": [
      "0     2\n",
      "1     4\n",
      "2     6\n",
      "3     8\n",
      "4    10\n",
      "Name: col2, dtype: int64\n",
      "   col1  col2 col3\n",
      "0     1     2    A\n",
      "1     2     4    B\n",
      "2     3     6    C\n",
      "   col1  col2 col3\n",
      "0     1     2    A\n",
      "   col1  col2 col3\n",
      "1     2     4    B\n",
      "Empty DataFrame\n",
      "Columns: [col1, col2, col3]\n",
      "Index: []\n",
      "   col1  col2 col3\n",
      "0     1     2    A\n",
      "1     2     4    B\n",
      "   col2 col3\n",
      "0     2    A\n"
     ]
    }
   ],
   "source": [
    "import pandas as pd\n",
    "\n",
    "df = pd.DataFrame({\n",
    "    'col1' : [1,2,3,4,5],\n",
    "    'col2' : [2,4,6,8,10],\n",
    "    'col3' : ['A','B','C','D','E'] })\n",
    "\n",
    "print(df.col2)\n",
    "print(df.head(n=3))\n",
    "print(df.query('index==0'))\n",
    "print(df.query('col3==\"B\"'))\n",
    "print(df.query('col3==\"A\" & col1==2'))\n",
    "print(df.query('col3==\"A\" | col1==2'))\n",
    "print(df.query('col3==\"A\"')[['col2','col3']])"
   ]
  },
  {
   "cell_type": "code",
   "execution_count": 10,
   "id": "3f2362aa-33bc-4936-a01d-cbdbc81618d2",
   "metadata": {
    "tags": []
   },
   "outputs": [
    {
     "name": "stdout",
     "output_type": "stream",
     "text": [
      "[0 0 0 0 0]\n",
      "[[0 0 0]\n",
      " [0 0 0]\n",
      " [0 0 0]]\n",
      "[1. 1. 1. 1. 1.]\n"
     ]
    }
   ],
   "source": [
    "import numpy as np\n",
    "\n",
    "a = np.zeros(5, dtype=int)\n",
    "print(a)\n",
    "\n",
    "b = np.zeros((3,3),dtype=int)\n",
    "print(b)\n",
    "\n",
    "c = np.ones(5, dtype=float)\n",
    "print(c)\n"
   ]
  },
  {
   "cell_type": "code",
   "execution_count": 11,
   "id": "5ff355cd-cbd0-466d-acf1-d3b9c6c32538",
   "metadata": {
    "tags": []
   },
   "outputs": [
    {
     "name": "stdout",
     "output_type": "stream",
     "text": [
      "[5 5 5 5 5 5 5 5 5]\n",
      "[9 9 9 9 9]\n",
      "[[1 0 0]\n",
      " [0 1 0]\n",
      " [0 0 1]]\n"
     ]
    }
   ],
   "source": [
    "import numpy as np\n",
    "\n",
    "a = np.tile(5,9)\n",
    "print(a)\n",
    "\n",
    "b = np.full(5,9)\n",
    "print(b)\n",
    "\n",
    "c = np.eye(3, dtype=int)\n",
    "print(c)"
   ]
  },
  {
   "cell_type": "code",
   "execution_count": 14,
   "id": "2a3ada52-0b03-4508-bee7-b232e1652fdd",
   "metadata": {
    "tags": []
   },
   "outputs": [
    {
     "name": "stdout",
     "output_type": "stream",
     "text": [
      "[ 0  1  2  3  4  5  6  7  8  9 10 11 12 13 14 15 16 17 18 19]\n",
      "[[ 0  1  2  3  4]\n",
      " [ 5  6  7  8  9]\n",
      " [10 11 12 13 14]\n",
      " [15 16 17 18 19]]\n",
      "[ 0  1  2  3  4  5  6  7  8  9 10 11 12 13 14 15 16 17 18 19]\n"
     ]
    }
   ],
   "source": [
    "import numpy as np\n",
    "\n",
    "a = np.arange(20)\n",
    "print(a)\n",
    "\n",
    "print(a.reshape(4,5))\n",
    "print(a)"
   ]
  },
  {
   "cell_type": "code",
   "execution_count": 16,
   "id": "57f9571d-2b75-4c39-91c8-7acf64abe7ae",
   "metadata": {
    "tags": []
   },
   "outputs": [
    {
     "name": "stdout",
     "output_type": "stream",
     "text": [
      "   a   b\n",
      "0  1   4\n",
      "1  2   5\n",
      "2  3   6\n",
      "0  7  10\n",
      "1  8  11\n",
      "2  9  12 \n",
      "\n",
      "   a  b  a   b\n",
      "0  1  4  7  10\n",
      "1  2  5  8  11\n",
      "2  3  6  9  12 \n",
      "\n"
     ]
    }
   ],
   "source": [
    "import pandas as pd\n",
    "\n",
    "df1 = pd.DataFrame({\n",
    "    'a' : [1,2,3],\n",
    "    'b' : [4,5,6]\n",
    "})\n",
    "df2 = pd.DataFrame({\n",
    "    'a' : [7,8,9],\n",
    "    'b' : [10,11,12]\n",
    "})\n",
    "\n",
    "cc = pd.concat([df1, df2], axis = 0)\n",
    "print(cc, '\\n')\n",
    "\n",
    "cc = pd.concat([df1, df2], axis = 1)\n",
    "print(cc, '\\n')\n"
   ]
  },
  {
   "cell_type": "code",
   "execution_count": 20,
   "id": "92186863-9e71-497e-917a-21e86f5751cd",
   "metadata": {
    "tags": []
   },
   "outputs": [
    {
     "name": "stdout",
     "output_type": "stream",
     "text": [
      "  x1  x2\n",
      "0  A   1\n",
      "1  B   2\n",
      "2  c   3 \n",
      "\n",
      "  x1  x3\n",
      "0  B   2\n",
      "1  C   3\n",
      "2  D   4 \n",
      "\n",
      "  x1   x2   x3\n",
      "0  A  1.0  NaN\n",
      "1  B  2.0  NaN\n",
      "2  c  3.0  NaN\n",
      "0  B  NaN  2.0\n",
      "1  C  NaN  3.0\n",
      "2  D  NaN  4.0 \n",
      "\n",
      "  x1  x2 x1  x3\n",
      "0  A   1  B   2\n",
      "1  B   2  C   3\n",
      "2  c   3  D   4 \n",
      "\n"
     ]
    }
   ],
   "source": [
    "import pandas as pd\n",
    "\n",
    "a = pd.DataFrame(\n",
    "    [['A',1],['B',2],['c',3]],\n",
    "     columns=['x1','x2']\n",
    "     )\n",
    "    \n",
    "              \n",
    "b = pd.DataFrame({\n",
    "    'x1':['B','C','D'],\n",
    "    'x3' :[2,3,4] \n",
    "})\n",
    "\n",
    "print(a,'\\n')\n",
    "print(b,'\\n')\n",
    "print(pd.concat([a,b]),'\\n')\n",
    "print(pd.concat([a,b], axis=1), '\\n')              "
   ]
  },
  {
   "cell_type": "code",
   "execution_count": 22,
   "id": "03c66f1a-11e6-4a72-9071-92b2670bc968",
   "metadata": {
    "tags": []
   },
   "outputs": [
    {
     "name": "stdout",
     "output_type": "stream",
     "text": [
      "<class 'int'>\n",
      "<class 'str'>\n",
      "<class 'numpy.str_'>\n",
      "<class 'numpy.str_'>\n"
     ]
    }
   ],
   "source": [
    "import numpy as np\n",
    "\n",
    "a = [1,'A']\n",
    "\n",
    "print(type(a[0]))\n",
    "print(type(a[1]))\n",
    "      \n",
    "a = np.array(a)\n",
    "print(type(a[0]))\n",
    "print(type(a[1]))      "
   ]
  },
  {
   "cell_type": "code",
   "execution_count": null,
   "id": "7cfc8872-a9d2-418e-b5b4-5bed207b6f9f",
   "metadata": {},
   "outputs": [],
   "source": []
  },
  {
   "cell_type": "code",
   "execution_count": null,
   "id": "41357382-98e0-48b9-981e-2e1ad9c3b161",
   "metadata": {},
   "outputs": [],
   "source": []
  },
  {
   "cell_type": "code",
   "execution_count": null,
   "id": "c2e89cbd-7fe0-4352-a037-a1a23ce74785",
   "metadata": {},
   "outputs": [],
   "source": []
  },
  {
   "cell_type": "code",
   "execution_count": null,
   "id": "5acf67ee-d14f-423d-a903-af233ebf9cbb",
   "metadata": {},
   "outputs": [],
   "source": []
  },
  {
   "cell_type": "code",
   "execution_count": null,
   "id": "834247dc-147d-4517-b651-3c2d5f2d6300",
   "metadata": {},
   "outputs": [],
   "source": []
  },
  {
   "cell_type": "code",
   "execution_count": null,
   "id": "2267d4f0-134b-4024-beb1-24af12e01ba7",
   "metadata": {},
   "outputs": [],
   "source": []
  },
  {
   "cell_type": "code",
   "execution_count": null,
   "id": "602da9f0-d357-4fc1-a6fc-f09cf2a29219",
   "metadata": {},
   "outputs": [],
   "source": []
  },
  {
   "cell_type": "code",
   "execution_count": null,
   "id": "38e32f8c-928b-448a-ac0b-36b59e8b9f33",
   "metadata": {},
   "outputs": [],
   "source": []
  },
  {
   "cell_type": "code",
   "execution_count": null,
   "id": "d00ac243-de31-46ce-8b95-f9d71ca9be97",
   "metadata": {},
   "outputs": [],
   "source": []
  },
  {
   "cell_type": "code",
   "execution_count": null,
   "id": "3bcd3a7d-c0d5-4f35-baf2-755fc2177af9",
   "metadata": {},
   "outputs": [],
   "source": []
  },
  {
   "cell_type": "code",
   "execution_count": null,
   "id": "e3b41cf9-3029-40ef-8081-5b0b23594ebc",
   "metadata": {},
   "outputs": [],
   "source": []
  },
  {
   "cell_type": "code",
   "execution_count": null,
   "id": "b3c38319-7481-457c-b10b-80ca6813dd54",
   "metadata": {},
   "outputs": [],
   "source": []
  },
  {
   "cell_type": "code",
   "execution_count": null,
   "id": "a8f2ebad-63ea-461f-8b19-4c1b93c5aa46",
   "metadata": {},
   "outputs": [],
   "source": []
  },
  {
   "cell_type": "code",
   "execution_count": null,
   "id": "c274dd1e-cd4d-48ab-9328-f7ae57700398",
   "metadata": {},
   "outputs": [],
   "source": []
  },
  {
   "cell_type": "code",
   "execution_count": null,
   "id": "bab58df2-4bdd-440a-84d6-206d2ceefc97",
   "metadata": {},
   "outputs": [],
   "source": []
  },
  {
   "cell_type": "code",
   "execution_count": null,
   "id": "00baf8dc-417c-484f-9b08-4afa75b3b38c",
   "metadata": {},
   "outputs": [],
   "source": []
  },
  {
   "cell_type": "code",
   "execution_count": null,
   "id": "be75f53c-4212-47af-ace7-1aeb16069161",
   "metadata": {},
   "outputs": [],
   "source": []
  },
  {
   "cell_type": "code",
   "execution_count": null,
   "id": "2e706b5c-8ae9-47f8-95c4-f7beaeda2850",
   "metadata": {},
   "outputs": [],
   "source": []
  },
  {
   "cell_type": "code",
   "execution_count": null,
   "id": "6a91dc92-b1f5-4d22-9ce3-b7bf0e17ee2e",
   "metadata": {},
   "outputs": [],
   "source": []
  },
  {
   "cell_type": "code",
   "execution_count": null,
   "id": "cb647ee9-574f-473b-a7d4-211b3412afaf",
   "metadata": {},
   "outputs": [],
   "source": []
  },
  {
   "cell_type": "code",
   "execution_count": null,
   "id": "494f112f-f34f-41b1-a9c0-4eea5e516c21",
   "metadata": {},
   "outputs": [],
   "source": []
  },
  {
   "cell_type": "code",
   "execution_count": null,
   "id": "7bc357e2-068e-49a2-86dd-394bd6a1dca2",
   "metadata": {},
   "outputs": [],
   "source": []
  },
  {
   "cell_type": "code",
   "execution_count": null,
   "id": "c2e36205-80a5-41c0-a622-1f755a7ee958",
   "metadata": {},
   "outputs": [],
   "source": []
  },
  {
   "cell_type": "code",
   "execution_count": null,
   "id": "b9700782-510c-4ad1-b500-2da26c9e6a26",
   "metadata": {},
   "outputs": [],
   "source": []
  },
  {
   "cell_type": "code",
   "execution_count": null,
   "id": "300cc353-e065-4a5a-b842-af9b7c6dccc7",
   "metadata": {},
   "outputs": [],
   "source": []
  }
 ],
 "metadata": {
  "kernelspec": {
   "display_name": "Python 3 (ipykernel)",
   "language": "python",
   "name": "python3"
  },
  "language_info": {
   "codemirror_mode": {
    "name": "ipython",
    "version": 3
   },
   "file_extension": ".py",
   "mimetype": "text/x-python",
   "name": "python",
   "nbconvert_exporter": "python",
   "pygments_lexer": "ipython3",
   "version": "3.11.5"
  }
 },
 "nbformat": 4,
 "nbformat_minor": 5
}
