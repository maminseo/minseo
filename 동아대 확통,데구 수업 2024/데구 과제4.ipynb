{
 "cells": [
  {
   "cell_type": "code",
   "execution_count": null,
   "id": "dcb15cd2-56ba-4d0e-8d75-2dddb701fe3a",
   "metadata": {},
   "outputs": [],
   "source": [
    "s=input()\n",
    "\n",
    "stack=[]\n",
    "\n",
    "value=0\n",
    "tmp=1\n",
    "for i in range(len(s)):\n",
    "    if s[i] =='(':\n",
    "        stack.append(s[i])\n",
    "        tmp *=2\n",
    "    elif s[i] == '[':\n",
    "        stack.append(s[i])\n",
    "        tmp *=3\n",
    "    elif s[i] == \")\":\n",
    "        if not stack or stack[-1] == \"[\":\n",
    "            value = 0 # 실패\n",
    "            break\n",
    "        if s[i-1] == \"(\":\n",
    "            value += tmp\n",
    "        stack.pop()\n",
    "        tmp //= 2  #tmp 초기화\n",
    "    else:\n",
    "        if not stack or stack[-1] == \"(\":\n",
    "            value=0\n",
    "            break\n",
    "        if s[i-1] =='[':\n",
    "            value+=tmp\n",
    "        stack.pop()\n",
    "        tmp //=3 #tmp 초기화\n",
    "\n",
    "if stack:\n",
    "    print(0)\n",
    "else:\n",
    "    print(value)"
   ]
  },
  {
   "cell_type": "code",
   "execution_count": 1,
   "id": "03026786-5405-478d-9dbd-89fb2843e286",
   "metadata": {},
   "outputs": [
    {
     "name": "stdin",
     "output_type": "stream",
     "text": [
      " (()[[]])([])\n"
     ]
    },
    {
     "name": "stdout",
     "output_type": "stream",
     "text": [
      "28\n"
     ]
    }
   ],
   "source": [
    "# 성공\n",
    "def bracket(s):\n",
    "    stack = []\n",
    "    tmp = 1\n",
    "    value = 0\n",
    "    \n",
    "    for i in range(len(s)):\n",
    "        if s[i] == '(':\n",
    "            stack.append(s[i])\n",
    "            tmp *=2\n",
    "        elif s[i] == '[':\n",
    "            stack.append(s[i])\n",
    "            tmp *=3\n",
    "        elif s[i] == ')':\n",
    "            if not stack or stack[-1] != '(':\n",
    "                return 0\n",
    "            if s[i-1] == \"(\":\n",
    "                value += tmp\n",
    "            stack.pop()\n",
    "            tmp //= 2    \n",
    "        elif s[i] == ']':\n",
    "            if not stack or stack[-1] != '[':\n",
    "                return 0\n",
    "            if s[i-1] =='[':\n",
    "                value+=tmp\n",
    "            stack.pop()\n",
    "            tmp //=3\n",
    "        else:\n",
    "            return 0\n",
    "            \n",
    "    if stack:\n",
    "        return(0)\n",
    "    else:\n",
    "        return value\n",
    "\n",
    "s = input()\n",
    "print(bracket(s))\n"
   ]
  },
  {
   "cell_type": "code",
   "execution_count": null,
   "id": "e2d75807-bdd4-49b0-b439-801800004bd0",
   "metadata": {},
   "outputs": [],
   "source": [
    "def bracket(s):\n",
    "    stack = []\n",
    "    stack_value = []\n",
    "\n",
    "    for char in s:\n",
    "        if char == '(' or char == '[':\n",
    "            stack.append(char)\n",
    "        elif char == ')':\n",
    "            if not stack or stack[-1] != '(':\n",
    "                return 0\n",
    "            stack.pop()\n",
    "            stack_value.append(2)\n",
    "        elif char == ']':\n",
    "            if not stack or stack[-1] != '[':\n",
    "                return 0\n",
    "            stack.pop()\n",
    "            stack_value.append(3)\n",
    "        else:\n",
    "            return 0\n",
    "\n",
    "        if len(stack_value) >= 2:\n",
    "            value = stack_value.pop() * stack_value.pop()\n",
    "            stack_value.append(value)\n",
    "\n",
    "    if len(stack_value) != 1:\n",
    "        return 0\n",
    "\n",
    "    return stack_value[0]\n",
    "\n",
    "s = input()\n",
    "print(bracket(s))"
   ]
  }
 ],
 "metadata": {
  "kernelspec": {
   "display_name": "Python 3 (ipykernel)",
   "language": "python",
   "name": "python3"
  },
  "language_info": {
   "codemirror_mode": {
    "name": "ipython",
    "version": 3
   },
   "file_extension": ".py",
   "mimetype": "text/x-python",
   "name": "python",
   "nbconvert_exporter": "python",
   "pygments_lexer": "ipython3",
   "version": "3.11.5"
  }
 },
 "nbformat": 4,
 "nbformat_minor": 5
}
