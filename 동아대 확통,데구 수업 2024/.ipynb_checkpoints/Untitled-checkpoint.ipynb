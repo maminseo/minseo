{
 "cells": [
  {
   "cell_type": "code",
   "execution_count": 1,
   "id": "4240c29b-9f24-41f6-a273-356548bdc1ad",
   "metadata": {
    "tags": []
   },
   "outputs": [
    {
     "name": "stdout",
     "output_type": "stream",
     "text": [
      "18\n",
      "1818\n",
      "181818\n"
     ]
    }
   ],
   "source": [
    "#end\n",
    "print(\"18\")\n",
    "print(\"1818\")\n",
    "print(\"181818\")"
   ]
  },
  {
   "cell_type": "code",
   "execution_count": 3,
   "id": "b194dc34-a906-4c77-8d7c-6306d2a6e0c2",
   "metadata": {
    "tags": []
   },
   "outputs": [
    {
     "name": "stdout",
     "output_type": "stream",
     "text": [
      "대지는 바보이다. 나는 지니어스이다!\n"
     ]
    }
   ],
   "source": [
    "s = '바보'\n",
    "m = ' 지니어스'\n",
    "result = f'대지는 {s}이다. 나는{m}이다!'\n",
    "print(result)"
   ]
  },
  {
   "cell_type": "code",
   "execution_count": 4,
   "id": "d89ad9d3-db98-490b-8d2a-1d6e236b156e",
   "metadata": {
    "tags": []
   },
   "outputs": [
    {
     "name": "stdout",
     "output_type": "stream",
     "text": [
      "대지는 바보,나는 안바보\n"
     ]
    }
   ],
   "source": [
    "# f-string\n",
    "d = {'대지':'바보','나':'안바보'}\n",
    "result = f'대지는 {d[\"대지\"]},나는 {d[\"나\"]}'\n",
    "print(result)"
   ]
  },
  {
   "cell_type": "code",
   "execution_count": 1,
   "id": "ef6ce7c4-215a-49f4-82d0-42d34e83941a",
   "metadata": {},
   "outputs": [
    {
     "name": "stdout",
     "output_type": "stream",
     "text": [
      "18\n",
      "1818\n",
      "181818\n"
     ]
    }
   ],
   "source": [
    "#end\n",
    "print(\"18\")\n",
    "print(\"1818\")\n",
    "print(\"181818\")"
   ]
  },
  {
   "cell_type": "code",
   "execution_count": null,
   "id": "5f42f5b7-09d5-4f88-9be2-ef3541169155",
   "metadata": {},
   "outputs": [],
   "source": []
  }
 ],
 "metadata": {
  "kernelspec": {
   "display_name": "Python 3 (ipykernel)",
   "language": "python",
   "name": "python3"
  },
  "language_info": {
   "codemirror_mode": {
    "name": "ipython",
    "version": 3
   },
   "file_extension": ".py",
   "mimetype": "text/x-python",
   "name": "python",
   "nbconvert_exporter": "python",
   "pygments_lexer": "ipython3",
   "version": "3.12.0"
  }
 },
 "nbformat": 4,
 "nbformat_minor": 5
}
