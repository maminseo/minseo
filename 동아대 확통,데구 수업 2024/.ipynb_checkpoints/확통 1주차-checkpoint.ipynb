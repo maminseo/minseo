{
 "cells": [
  {
   "cell_type": "code",
   "execution_count": 13,
   "id": "fad415ff-bd2f-4d07-97da-b360810e5882",
   "metadata": {
    "tags": []
   },
   "outputs": [
    {
     "name": "stdout",
     "output_type": "stream",
     "text": [
      "[1 2 3 4 5]\n",
      "[ 7  9 11 13 15]\n",
      "[ 6  7  8  9 10]\n",
      "[-5 -5 -5 -5 -5]\n",
      "[-4 -3 -2 -1  0]\n",
      "[ 6 14 24 36 50]\n",
      "[ 2  4  6  8 10]\n",
      "[0.16666667 0.28571429 0.375      0.44444444 0.5       ]\n",
      "[0.2 0.4 0.6 0.8 1. ]\n"
     ]
    }
   ],
   "source": [
    "import numpy as np \n",
    "\n",
    "arr1 = np.array([1,2,3,4,5])\n",
    "arr2 = np.array([6,7,8,9,10])\n",
    "print(arr1)\n",
    "print(arr1+arr2)\n",
    "print(arr1+5)\n",
    "print(arr1-arr2)\n",
    "print(arr1-5)\n",
    "print(arr1*arr2)\n",
    "print(arr1*2)\n",
    "print(arr1/arr2)\n",
    "print(arr1/5)"
   ]
  },
  {
   "cell_type": "code",
   "execution_count": 15,
   "id": "df8fb22d-3160-40eb-ae2b-6c5a8a410f74",
   "metadata": {
    "tags": []
   },
   "outputs": [
    {
     "name": "stdout",
     "output_type": "stream",
     "text": [
      "[1, 2, 3, 4, 5]\n",
      "[1, 2, 3, 4, 5, 6, 7, 8, 9, 10]\n"
     ]
    }
   ],
   "source": [
    "list1 = [1,2,3,4,5]\n",
    "list2 = [6,7,8,9,10]\n",
    "print(list1)\n",
    "print(list1+list2)"
   ]
  },
  {
   "cell_type": "code",
   "execution_count": 27,
   "id": "eb63aede-3212-4ea0-abf2-4fbf10db4dca",
   "metadata": {
    "tags": []
   },
   "outputs": [
    {
     "name": "stdout",
     "output_type": "stream",
     "text": [
      "[[ 6  8]\n",
      " [10 12]]\n",
      "[[19 22]\n",
      " [43 50]]\n"
     ]
    }
   ],
   "source": [
    "import numpy as np\n",
    "a= np.array([[1,2],[3,4]])\n",
    "b= np.array([[5,6],[7,8]])\n",
    "c = np.add(a,b) #c=a+b\n",
    "print(c)\n",
    "d= np.dot(a,b)\n",
    "print(d)"
   ]
  },
  {
   "cell_type": "code",
   "execution_count": 1,
   "id": "8245ffa4-7b64-423c-815c-de33685d1a57",
   "metadata": {},
   "outputs": [
    {
     "name": "stdout",
     "output_type": "stream",
     "text": [
      "28\n",
      "4.0\n",
      "4.0\n",
      "2.0\n",
      "1\n",
      "7\n",
      "[ 1  3  6 10 15 21 28]\n",
      "[   1    2    6   24  120  720 5040]\n"
     ]
    }
   ],
   "source": [
    "import numpy as np \n",
    "\n",
    "a = np.array([1,2,3,4,5,6,7])\n",
    "\n",
    "print(a.sum())\n",
    "print(a.mean())\n",
    "print(a.var())\n",
    "print(a.std())\n",
    "print(a.min())\n",
    "print(a.max())\n",
    "print(a.cumsum())\n",
    "print(a.cumprod())"
   ]
  },
  {
   "cell_type": "code",
   "execution_count": 2,
   "id": "480eb926-694f-4be4-b814-5226ca3fef04",
   "metadata": {
    "tags": []
   },
   "outputs": [
    {
     "name": "stdout",
     "output_type": "stream",
     "text": [
      "합계: 28\n",
      "평균: 4.0\n",
      "분산: 4.0\n",
      "표준편차: 2.0\n",
      "최솟값: 1\n",
      "최댓값: 7\n",
      "누적합: [ 1  3  6 10 15 21 28]\n",
      "누적곱: [   1    2    6   24  120  720 5040]\n"
     ]
    }
   ],
   "source": [
    "import numpy as np\n",
    "\n",
    "data = np.array([1, 2, 3, 4, 5, 6, 7])\n",
    "\n",
    "# 합계\n",
    "total_sum = np.sum(data)\n",
    "\n",
    "# 평균\n",
    "mean_value = np.mean(data)\n",
    "\n",
    "# 분산\n",
    "variance_value = np.var(data)\n",
    "\n",
    "# 표준편차\n",
    "std_deviation = np.std(data)\n",
    "\n",
    "# 최솟값\n",
    "min_value = np.min(data)\n",
    "\n",
    "# 최댓값\n",
    "max_value = np.max(data)\n",
    "\n",
    "# 누적합\n",
    "cumulative_sum = np.cumsum(data)\n",
    "\n",
    "# 누적곱\n",
    "cumulative_product = np.cumprod(data)\n",
    "\n",
    "# 결과 출력\n",
    "print(\"합계:\", total_sum)\n",
    "print(\"평균:\", mean_value)\n",
    "print(\"분산:\", variance_value)\n",
    "print(\"표준편차:\", std_deviation)\n",
    "print(\"최솟값:\", min_value)\n",
    "print(\"최댓값:\", max_value)\n",
    "print(\"누적합:\", cumulative_sum)\n",
    "print(\"누적곱:\", cumulative_product)"
   ]
  },
  {
   "cell_type": "code",
   "execution_count": null,
   "id": "a1ac2c27-c07e-4297-bb20-f9dbe276a265",
   "metadata": {},
   "outputs": [],
   "source": []
  }
 ],
 "metadata": {
  "kernelspec": {
   "display_name": "Python 3 (ipykernel)",
   "language": "python",
   "name": "python3"
  },
  "language_info": {
   "codemirror_mode": {
    "name": "ipython",
    "version": 3
   },
   "file_extension": ".py",
   "mimetype": "text/x-python",
   "name": "python",
   "nbconvert_exporter": "python",
   "pygments_lexer": "ipython3",
   "version": "3.11.5"
  }
 },
 "nbformat": 4,
 "nbformat_minor": 5
}
