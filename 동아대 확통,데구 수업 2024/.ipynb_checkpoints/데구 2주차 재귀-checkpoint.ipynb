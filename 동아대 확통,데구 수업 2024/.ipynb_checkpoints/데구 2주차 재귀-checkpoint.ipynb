{
 "cells": [
  {
   "cell_type": "code",
   "execution_count": 3,
   "id": "1751b862-69c7-42f5-8e8d-86238638229c",
   "metadata": {},
   "outputs": [
    {
     "name": "stdin",
     "output_type": "stream",
     "text": [
      "enter n:  2\n"
     ]
    },
    {
     "name": "stdout",
     "output_type": "stream",
     "text": [
      "number is : 4\n"
     ]
    }
   ],
   "source": [
    "# 초항이 1이고 공차가 3인 등차 수열\n",
    "\n",
    "def seq(n):\n",
    "    if n==1:\n",
    "        return 1\n",
    "    else:\n",
    "        return seq(n-1) + 3\n",
    "\n",
    "a= seq(int(input(\"enter n: \")))\n",
    "print(\"number is :\", a)\n",
    "        \n",
    "    "
   ]
  },
  {
   "cell_type": "code",
   "execution_count": 2,
   "id": "21d1cdf1-c8fe-42a7-ac4d-5788dee98dca",
   "metadata": {
    "tags": []
   },
   "outputs": [
    {
     "name": "stdin",
     "output_type": "stream",
     "text": [
      "enter n : 1\n"
     ]
    },
    {
     "name": "stdout",
     "output_type": "stream",
     "text": [
      "number is : 1\n"
     ]
    }
   ],
   "source": [
    "#피보나치 수열\n",
    "\n",
    "def fib(n):\n",
    "    if n == 1 or n == 2:\n",
    "        return 1\n",
    "    return fib(n-2) + fib(n-1)\n",
    "\n",
    "a = fib(int(input(\"enter n :\")))\n",
    "print(\"number is :\", a)"
   ]
  },
  {
   "cell_type": "code",
   "execution_count": 2,
   "id": "c6aacee3-b309-4f8f-b0e4-c256f66d0903",
   "metadata": {
    "tags": []
   },
   "outputs": [
    {
     "name": "stdout",
     "output_type": "stream",
     "text": [
      "n=3\n",
      "1 -> 2\n",
      "1 -> 3\n",
      "2 -> 3\n",
      "1 -> 2\n",
      "3 -> 1\n",
      "3 -> 2\n",
      "1 -> 2\n"
     ]
    }
   ],
   "source": [
    "# 하노이 탑\n",
    "\n",
    "def hanoi(n, a, b, c):\n",
    "    if n==1:\n",
    "        print(a, '->', b)\n",
    "        return\n",
    "    \n",
    "    hanoi(n-1, a, c, b)\n",
    "    print(a, '->', b)\n",
    "    hanoi(n-1, c, b, a)\n",
    "    \n",
    "print( 'n=3')\n",
    "hanoi(3,1,2,3)"
   ]
  },
  {
   "cell_type": "code",
   "execution_count": 4,
   "id": "9247ab65-a5fd-4a17-af86-231446979a5b",
   "metadata": {
    "tags": []
   },
   "outputs": [
    {
     "name": "stdout",
     "output_type": "stream",
     "text": [
      "입력행렬 [4, 3, 5, 1, 2, 6, 8, 9, 3, 5, 2, 6, 7]\n",
      "선택정렬 결과 [1, 2, 2, 3, 3, 4, 5, 5, 6, 6, 7, 8, 9]\n",
      "재귀버전 결과 [1, 2, 2, 3, 3, 4, 5, 5, 6, 6, 7, 8, 9]\n"
     ]
    }
   ],
   "source": [
    "#선택정렬\n",
    "def sel_sort(a):\n",
    "    n= len(a)\n",
    "    b= []\n",
    "    while n>=1:\n",
    "        x= max(a)\n",
    "        a.remove(x)\n",
    "        b= [x] + b\n",
    "        n= n-1\n",
    "    return b\n",
    "\n",
    "#재귀적 선택정렬\n",
    "def sel_sort_rec(a):\n",
    "    if a != []:\n",
    "        x = max(a)\n",
    "        a.remove(x)\n",
    "        return sel_sort_rec(a) + [x]\n",
    "    else:\n",
    "        return []\n",
    "    \n",
    "a= [4,3,5,1,2,6,8,9,3,5,2,6,7]\n",
    "print( '입력행렬', a)\n",
    "b= sel_sort(a)\n",
    "print('선택정렬 결과', b)\n",
    "\n",
    "a= [4,3,5,1,2,6,8,9,3,5,2,6,7]\n",
    "c= sel_sort_rec(a)\n",
    "print('재귀버전 결과', c)"
   ]
  },
  {
   "cell_type": "code",
   "execution_count": 1,
   "id": "17525a1a-9c1e-4cd5-adb5-3cbea412716d",
   "metadata": {},
   "outputs": [
    {
     "name": "stdout",
     "output_type": "stream",
     "text": [
      "[1, 2, 3, 4, 5, 10, 20]\n"
     ]
    }
   ],
   "source": [
    "a = [1,2,3,4,5]\n",
    "a.extend([10,20])\n",
    "print(a)"
   ]
  },
  {
   "cell_type": "code",
   "execution_count": null,
   "id": "70b927e7-c00d-419c-8fbe-a1d450294802",
   "metadata": {},
   "outputs": [],
   "source": []
  },
  {
   "cell_type": "code",
   "execution_count": null,
   "id": "98a4c9e5-a98d-4ae7-9e2c-3135895e3c50",
   "metadata": {},
   "outputs": [],
   "source": []
  }
 ],
 "metadata": {
  "kernelspec": {
   "display_name": "Python 3 (ipykernel)",
   "language": "python",
   "name": "python3"
  },
  "language_info": {
   "codemirror_mode": {
    "name": "ipython",
    "version": 3
   },
   "file_extension": ".py",
   "mimetype": "text/x-python",
   "name": "python",
   "nbconvert_exporter": "python",
   "pygments_lexer": "ipython3",
   "version": "3.11.5"
  }
 },
 "nbformat": 4,
 "nbformat_minor": 5
}
