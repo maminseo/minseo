{
 "cells": [
  {
   "cell_type": "code",
   "execution_count": null,
   "id": "f1eac17f-5fa5-4940-86f8-f1e23938704f",
   "metadata": {},
   "outputs": [],
   "source": [
    "class LinkedStack:\n",
    "    def __init__(self):\n",
    "        self.__list = LinkedListBasic()\n",
    "    def push(self, x):\n",
    "    \n",
    "    def pop(self):\n",
    "    def top(self"
   ]
  }
 ],
 "metadata": {
  "kernelspec": {
   "display_name": "Python 3 (ipykernel)",
   "language": "python",
   "name": "python3"
  },
  "language_info": {
   "codemirror_mode": {
    "name": "ipython",
    "version": 3
   },
   "file_extension": ".py",
   "mimetype": "text/x-python",
   "name": "python",
   "nbconvert_exporter": "python",
   "pygments_lexer": "ipython3",
   "version": "3.11.5"
  }
 },
 "nbformat": 4,
 "nbformat_minor": 5
}
