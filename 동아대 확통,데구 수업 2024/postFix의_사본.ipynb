{
  "cells": [
    {
      "cell_type": "markdown",
      "metadata": {
        "colab_type": "text",
        "id": "view-in-github"
      },
      "source": [
        "<a href=\"https://colab.research.google.com/github/maminseo/minseo/blob/main/postFix%EC%9D%98_%EC%82%AC%EB%B3%B8.ipynb\" target=\"_parent\"><img src=\"https://colab.research.google.com/assets/colab-badge.svg\" alt=\"Open In Colab\"/></a>"
      ]
    },
    {
      "cell_type": "markdown",
      "metadata": {
        "id": "6bNClK_2Bt97"
      },
      "source": [
        "List Stack"
      ]
    },
    {
      "cell_type": "code",
      "execution_count": null,
      "metadata": {
        "id": "qejO1VeizjWu"
      },
      "outputs": [],
      "source": [
        "class ListStack:\n",
        "\tdef __init__(self):\n",
        "\t\tself.__stack = []\n",
        "\n",
        "\tdef push(self, x):\n",
        "\t\tself.__stack.append(x)\n",
        "\n",
        "\tdef pop(self):\n",
        "\t\treturn self.__stack.pop()\n",
        "\n",
        "\tdef top(self):\n",
        "\t\tif self.isEmpty():\n",
        "\t\t\treturn None\n",
        "\t\telse:\n",
        "\t\t\treturn self.__stack[-1]\n",
        "\n",
        "\tdef isEmpty(self) -> bool:\n",
        "\t\treturn not bool(self.__stack)\n",
        "\n",
        "\tdef popAll(self):\n",
        "\t\tself.__stack.clear()\n",
        "\n",
        "\tdef printStack(self):\n",
        "\t\tprint(\"Stack from top:\", end = ' ')\n",
        "\t\tfor i in range(len(self.__stack)-1, -1, -1):\n",
        "\t\t\tprint(self.__stack[i], end = ' ')\n",
        "\t\tprint()\n"
      ]
    },
    {
      "cell_type": "markdown",
      "metadata": {
        "id": "dcgob-kUG11n"
      },
      "source": [
        "Post Fix\n",
        "(사칙연산의 후위 표현법 계산)"
      ]
    },
    {
      "cell_type": "code",
      "execution_count": null,
      "metadata": {
        "colab": {
          "base_uri": "https://localhost:8080/"
        },
        "id": "nhWJsyD7G6g5",
        "outputId": "26decd04-adde-4935-ac19-cc4263dd0537"
      },
      "outputs": [
        {
          "name": "stdout",
          "output_type": "stream",
          "text": [
            "Input string:  700 3 47 + 6 * - 4 /\n",
            "Answer:  100\n",
            "48 57\n",
            "43\n"
          ]
        }
      ],
      "source": [
        "def evaluate(p):\n",
        "\ts = ListStack()\t\t\t\t\t\t\t# List Stack 할당\n",
        "\tdigitPreviously = False\n",
        "\tfor i in range(len(p)):\n",
        "\t\tch = p[i] \t\t\t\t\t\t\t\t# i번 문자. 번호는 0번부터\n",
        "\t\tif ch.isdigit():\t\t\t\t\t# ch가 숫자\n",
        "\t\t\tif digitPreviously:\t\t\t\t# 이전문자가 숫자\n",
        "\t\t\t\ttmp = s.pop()\t\t\t\t\t\t# 이전문자를 스택에서 꺼낸다, pop()\n",
        "\t\t\t\ttmp = 10 * tmp + (ord(ch) - ord('0'))\t# 이전문자에 자리수(10)를 곱하고 현재 숫자를 더한다\n",
        "\t\t\t\t\t\t\t\t\t\t\t\t\t\t\t\t\t\t\t\t\t\t\t# ord(): 해당 문자에 해당하는 유니코드 포인트를 정수로 변환\n",
        "\t\t\t\ts.push(tmp)\t\t\t\t\t\t\t#\t자리수가 계산된 숫자를 스택에 삽입\n",
        "\t\t\telse:\t\t\t\t\t\t\t\t\t\t\t# 이전문자가 숫자가 아닐경우(새로운 숫자)\n",
        "\t\t\t\ts.push(ord(ch) - ord('0'))\t# 숫자를 스택에 삽입\n",
        "\t\t\t\tdigitPreviously = True\t\t\t# 삽입된 문자가 숫자임을 알림\n",
        "\t\telif isOperator(ch): \t# ch가 연산자\n",
        "\t\t\ts.push(operation(s.pop(), s.pop(), ch))\t# 스택에서 숫자를 꺼내서 연산을 수행한 후 결과를 스택에 삽입\n",
        "\t\t\tdigitPreviously = False\t\t# 연산이 수행되었으므로 False\n",
        "\t\telse:\t\t\t\t\t\t\t\t\t# ch가 공백\n",
        "\t\t\tdigitPreviously = False\n",
        "\treturn s.pop()\t# 최종 연산 결과를 꺼내서 return\n",
        "\n",
        "def isOperator(ch) -> bool:  # 연산자인가?\n",
        "\treturn (ch == '+' or ch == '-' or ch == '*' or ch == '/')\n",
        "\n",
        "def operation(opr2:int, opr1:int, ch) -> int:  # 연산하기(순서에 주의할 것)\n",
        "\t\treturn {'+': opr1 + opr2, '-': opr1 - opr2, '*': opr1 * opr2, '/': opr1 // opr2}[ch]\n",
        "\n",
        "def main():\n",
        "\tpostfix = \"700 3 47 + 6 * - 4 /\"  # 테스트 샘플 입력(후위 표현식)\n",
        "\tprint(\"Input string: \", postfix);\n",
        "\tanswer = evaluate(postfix)\n",
        "\tprint(\"Answer: \", answer)\n",
        "\tprint(ord('0'), ord('9'))\t\t# 0과 9의 유니코드 출력\n",
        "\tprint(ord('+'))\n",
        "\n",
        "if __name__ == \"__main__\":\n",
        "\tmain()\n"
      ]
    }
  ],
  "metadata": {
    "colab": {
      "include_colab_link": true,
      "provenance": []
    },
    "kernelspec": {
      "display_name": "Python 3",
      "name": "python3"
    },
    "language_info": {
      "name": "python"
    }
  },
  "nbformat": 4,
  "nbformat_minor": 0
}
