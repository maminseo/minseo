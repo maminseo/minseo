{
  "cells": [
    {
      "cell_type": "markdown",
      "metadata": {
        "colab_type": "text",
        "id": "view-in-github"
      },
      "source": [
        "<a href=\"https://colab.research.google.com/github/maminseo/minseo/blob/main/Deque_ipynb%EC%9D%98_%EC%82%AC%EB%B3%B8.ipynb\" target=\"_parent\"><img src=\"https://colab.research.google.com/assets/colab-badge.svg\" alt=\"Open In Colab\"/></a>"
      ]
    },
    {
      "cell_type": "markdown",
      "metadata": {
        "id": "UydZIYEi51fC"
      },
      "source": [
        "**CircularQueue**\n",
        "\n",
        "List를 이용하여 만든 Circular Queue\n",
        "(용량이 고정된 상태에서 원형(순환) 형태의 메모리를 이용)"
      ]
    },
    {
      "cell_type": "code",
      "execution_count": null,
      "metadata": {
        "id": "75y3sOH55fxS"
      },
      "outputs": [],
      "source": [
        "class CircularQueue :\n",
        "    def __init__( self, capacity = 8 ) :\n",
        "        self.capacity = capacity        # 용량(고정)\n",
        "        self.array = [None] * capacity  # 요소들을 저장할 배열\n",
        "        self.front = 0                  # 전단의 인덱스\n",
        "        self.rear = 0                   # 후단의 인덱스\n",
        "\n",
        "    def isEmpty( self ) :\n",
        "       return self.front == self.rear\n",
        "\n",
        "    def isFull( self ) :\n",
        "       return self.front == (self.rear+1)%self.capacity\n",
        "\n",
        "    def enqueue( self, item ):\n",
        "        if not self.isFull():\n",
        "            self.rear = (self.rear + 1) % self.capacity\n",
        "            self.array[self.rear] = item\n",
        "\n",
        "    def dequeue( self ):\n",
        "        if not self.isEmpty():\n",
        "            self.front = (self.front + 1) % self.capacity\n",
        "            return self.array[self.front]\n",
        "\n",
        "    def peek( self ):\n",
        "        if not self.isEmpty():\n",
        "            return self.array[(self.front + 1) % self.capacity]\n",
        "\n",
        "\n",
        "    # 코드 5.2: 큐의 전체 요소의 수 계산\n",
        "    def size( self ) :\n",
        "       return (self.rear - self.front + self.capacity) % self.capacity\n",
        "\n",
        "    # 코드 5.3: 문자열 변환을 위한 str 연산자 중복\n",
        "    def __str__(self):\n",
        "        if self.front < self.rear :\n",
        "            return str(self.array[self.front+1:self.rear+1])\n",
        "        else :\n",
        "            return str(self.array[self.front+1:self.capacity] + \\\n",
        "                       self.array[0:self.rear+1] )\n"
      ]
    },
    {
      "cell_type": "markdown",
      "metadata": {
        "id": "h3jabK186Aud"
      },
      "source": [
        "Circular Deque"
      ]
    },
    {
      "cell_type": "code",
      "execution_count": null,
      "metadata": {
        "id": "LWPKI_iR6N2r"
      },
      "outputs": [],
      "source": [
        "#from CircularQueue import *\n",
        "\n",
        "class CircularDeque(CircularQueue) :\n",
        "    def __init__( self, capacity=10 ) :\n",
        "        super().__init__(capacity)\n",
        "\n",
        "    # 코드 2.4b: 원형 덱: 동작이 동일한 연산들\n",
        "    def addRear( self, item ):\n",
        "       self.enqueue(item )\n",
        "\n",
        "    def deleteFront( self ):\n",
        "       return self.dequeue()\n",
        "\n",
        "    def getFront( self ):\n",
        "       return self.peek()\n",
        "\n",
        "    # 새로 구현이 필요한 연산들\n",
        "    def addFront( self, item ):\n",
        "        if not self.isFull():\n",
        "            self.array[self.front] = item\n",
        "            self.front = (self.front - 1 + self.capacity) % self.capacity\n",
        "        else: pass\n",
        "\n",
        "    def deleteRear( self ):\n",
        "        if not self.isEmpty():\n",
        "            item = self.array[self.rear];\n",
        "            self.rear = (self.rear - 1 + self.capacity) % self.capacity\n",
        "            return item\n",
        "        else: pass\n",
        "\n",
        "    def getRear( self ):\n",
        "        if not self.isEmpty():\n",
        "            return self.array[self.rear]\n",
        "        else: pass\n"
      ]
    },
    {
      "cell_type": "markdown",
      "metadata": {
        "id": "W6E-mb8V6RKN"
      },
      "source": [
        "Test CircularDeque"
      ]
    },
    {
      "cell_type": "code",
      "execution_count": null,
      "metadata": {
        "colab": {
          "base_uri": "https://localhost:8080/"
        },
        "id": "zSYW1jv16TkY",
        "outputId": "5eacbccd-0cb6-4526-f8e2-eb8baf272ca9"
      },
      "outputs": [
        {
          "name": "stdout",
          "output_type": "stream",
          "text": [
            "홀수->전단, 짝수->후단: [7, 5, 3, 1, 0, 2, 4, 6, 8]\n",
            " 전단삭제x2 후단삭제x3: [3, 1, 0, 2]\n",
            "   전단삽입 9,10,...13: [13, 12, 11, 10, 9, 3, 1, 0, 2]\n"
          ]
        }
      ],
      "source": [
        "if __name__ == \"__main__\":\n",
        "    dq = CircularDeque()\n",
        "\n",
        "    for i in range(9):\n",
        "        if i%2==0 : dq.addRear(i)\n",
        "        else : dq.addFront(i)\n",
        "    print(\"홀수->전단, 짝수->후단:\", dq)\n",
        "\n",
        "    for i in range(2): dq.deleteFront()\n",
        "    for i in range(3): dq.deleteRear()\n",
        "    print(\" 전단삭제x2 후단삭제x3:\", dq)\n",
        "\n",
        "    for i in range(9,14): dq.addFront(i)\n",
        "    print(\"   전단삽입 9,10,...13:\", dq)"
      ]
    }
  ],
  "metadata": {
    "colab": {
      "include_colab_link": true,
      "provenance": []
    },
    "kernelspec": {
      "display_name": "Python 3",
      "name": "python3"
    },
    "language_info": {
      "name": "python"
    }
  },
  "nbformat": 4,
  "nbformat_minor": 0
}
