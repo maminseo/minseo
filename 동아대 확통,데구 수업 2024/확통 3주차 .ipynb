{
 "cells": [
  {
   "cell_type": "code",
   "execution_count": 2,
   "id": "0e5533e3-d1bf-49cd-9312-66c2ccd90b51",
   "metadata": {
    "tags": []
   },
   "outputs": [
    {
     "name": "stdout",
     "output_type": "stream",
     "text": [
      "분산: 1.2 1.2\n",
      "불편분산: 1.3333333333333333 1.3333333333333333\n",
      "표준편차: 1.0954451150103321 1.0954451150103321\n",
      "불편표준편차: 1.1547005383792515 1.1547005383792515\n"
     ]
    }
   ],
   "source": [
    "import numpy as np\n",
    "fish = np.array([2,3,3,4,4,4,4,5,5,6])\n",
    "\n",
    "print('분산:',fish.var(),np.var(fish))\n",
    "print('불편분산:',fish.var(ddof=1),np.var(fish,ddof=1))\n",
    "print('표준편차:',fish.std(),np.std(fish))\n",
    "print('불편표준편차:',fish.std(ddof=1),np.std(fish,ddof=1))"
   ]
  },
  {
   "cell_type": "code",
   "execution_count": 7,
   "id": "6cacd87c-f65e-4176-a9a0-1a85c77ed1df",
   "metadata": {
    "tags": []
   },
   "outputs": [
    {
     "name": "stdout",
     "output_type": "stream",
     "text": [
      "오리지널 배열 [2 3 3 4 4 4 4 5 5 6]\n",
      "정규화후 배열 [0.   0.25 0.25 0.5  0.5  0.5  0.5  0.75 0.75 1.  ]\n",
      "표준화후 배열 [-1.82574 -0.91287 -0.91287  0.       0.       0.       0.       0.91287\n",
      "  0.91287  1.82574]\n",
      "표준화후 평균 4.0\n",
      "표준화후 분산 1.2\n"
     ]
    }
   ],
   "source": [
    "import numpy as np\n",
    "fish = np.array([2,3,3,4,4,4,4,5,5,6])\n",
    "print('오리지널 배열',fish)\n",
    "fish1 = (fish-fish.min())/(fish.max()-fish.min())\n",
    "print('정규화후 배열',fish1)\n",
    "fish2 = np.round((fish-fish.mean())/fish.std(),5)\n",
    "print('표준화후 배열',fish2)\n",
    "print('표준화후 평균',fish.mean())\n",
    "print('표준화후 분산',fish.var())"
   ]
  },
  {
   "cell_type": "code",
   "execution_count": null,
   "id": "4e0140a3-f70d-48f8-bc5b-5e897273adad",
   "metadata": {},
   "outputs": [],
   "source": []
  },
  {
   "cell_type": "code",
   "execution_count": null,
   "id": "cceb66c7-660b-49c3-99fc-b4587653eb7b",
   "metadata": {},
   "outputs": [],
   "source": []
  },
  {
   "cell_type": "code",
   "execution_count": null,
   "id": "ba3d0784-cab3-4ce0-83fd-a99926ca0dc4",
   "metadata": {},
   "outputs": [],
   "source": []
  },
  {
   "cell_type": "code",
   "execution_count": null,
   "id": "6b8610df-79e3-4ca1-a14f-d96a76cb8f6b",
   "metadata": {},
   "outputs": [],
   "source": []
  },
  {
   "cell_type": "code",
   "execution_count": null,
   "id": "0a8ab0d4-9da8-49b4-8e68-7ce9b607b5a0",
   "metadata": {},
   "outputs": [],
   "source": []
  }
 ],
 "metadata": {
  "kernelspec": {
   "display_name": "Python 3 (ipykernel)",
   "language": "python",
   "name": "python3"
  },
  "language_info": {
   "codemirror_mode": {
    "name": "ipython",
    "version": 3
   },
   "file_extension": ".py",
   "mimetype": "text/x-python",
   "name": "python",
   "nbconvert_exporter": "python",
   "pygments_lexer": "ipython3",
   "version": "3.11.5"
  }
 },
 "nbformat": 4,
 "nbformat_minor": 5
}
