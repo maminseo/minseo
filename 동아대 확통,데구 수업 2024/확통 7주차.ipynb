{
 "cells": [
  {
   "cell_type": "code",
   "execution_count": 25,
   "id": "612076cf-ce31-48a0-8654-08ab91f490bb",
   "metadata": {},
   "outputs": [
    {
     "name": "stdout",
     "output_type": "stream",
     "text": [
      "데이터 프레임 최대값\n",
      "냉면       9731\n",
      "비빔밥      9400\n",
      "김치찌개     8125\n",
      "삼겹살     16897\n",
      "자장면      6000\n",
      "삼계탕     14600\n",
      "칼국수      8250\n",
      "김밥       2931\n",
      "dtype: int64\n",
      "넘파이 전체 최대값\n",
      "16897\n",
      "넘파이 최대값\n",
      "냉면       9731\n",
      "비빔밥      9400\n",
      "김치찌개     8125\n",
      "삼겹살     16897\n",
      "자장면      6000\n",
      "삼계탕     14600\n",
      "칼국수      8250\n",
      "김밥       2931\n",
      "dtype: int64\n"
     ]
    }
   ],
   "source": [
    "import pandas as pd\n",
    "import matplotlib.pyplot as plt\n",
    "from scipy import stats\n",
    "\n",
    "df = pd.read_excel(\"C:/Users/darkr/OneDrive/Desktop/2학년1학기/확통/외식비.xlsx\")\n",
    "df = df.drop('지역',axis=1)\n",
    "\n",
    "print('데이터 프레임 최대값')\n",
    "print(df.max())\n",
    "\n",
    "print('넘파이 전체 최대값')\n",
    "print(np.max(df))\n",
    "print('넘파이 최대값')\n",
    "print(np.max(df,axis=0))"
   ]
  },
  {
   "cell_type": "code",
   "execution_count": 29,
   "id": "e27be99b-0bb5-4d77-b42c-cda0f1fa71ee",
   "metadata": {},
   "outputs": [
    {
     "name": "stdout",
     "output_type": "stream",
     "text": [
      "34\n",
      "7.0\n"
     ]
    }
   ],
   "source": [
    "import pandas as pd\n",
    "import matplotlib.pyplot as plt\n",
    "from scipy import stats\n",
    "import numpy as np\n",
    "\n",
    "df = pd.read_csv(\"C:/Users/darkr/OneDrive/Desktop/2학년1학기/확통/초등학생_키몸무게/초등학생_키몸무게.csv\")\n",
    "\n",
    "print(len(df))\n",
    "print(np.ceil(1 + np.log2(len(df))))"
   ]
  },
  {
   "cell_type": "code",
   "execution_count": 30,
   "id": "e6127333-c3ce-45d6-b0f1-78e340e87360",
   "metadata": {},
   "outputs": [
    {
     "data": {
      "text/html": [
       "<div>\n",
       "<style scoped>\n",
       "    .dataframe tbody tr th:only-of-type {\n",
       "        vertical-align: middle;\n",
       "    }\n",
       "\n",
       "    .dataframe tbody tr th {\n",
       "        vertical-align: top;\n",
       "    }\n",
       "\n",
       "    .dataframe thead th {\n",
       "        text-align: right;\n",
       "    }\n",
       "</style>\n",
       "<table border=\"1\" class=\"dataframe\">\n",
       "  <thead>\n",
       "    <tr style=\"text-align: right;\">\n",
       "      <th></th>\n",
       "      <th>지역</th>\n",
       "      <th>냉면</th>\n",
       "      <th>비빔밥</th>\n",
       "      <th>김치찌개</th>\n",
       "      <th>삼겹살</th>\n",
       "      <th>자장면</th>\n",
       "      <th>삼계탕</th>\n",
       "      <th>칼국수</th>\n",
       "      <th>김밥</th>\n",
       "    </tr>\n",
       "  </thead>\n",
       "  <tbody>\n",
       "    <tr>\n",
       "      <th>0</th>\n",
       "      <td>1</td>\n",
       "      <td>9731</td>\n",
       "      <td>9154</td>\n",
       "      <td>7077</td>\n",
       "      <td>16897</td>\n",
       "      <td>5692</td>\n",
       "      <td>14231</td>\n",
       "      <td>7615</td>\n",
       "      <td>2731</td>\n",
       "    </tr>\n",
       "    <tr>\n",
       "      <th>1</th>\n",
       "      <td>2</td>\n",
       "      <td>8400</td>\n",
       "      <td>8700</td>\n",
       "      <td>7100</td>\n",
       "      <td>13600</td>\n",
       "      <td>5700</td>\n",
       "      <td>14600</td>\n",
       "      <td>7400</td>\n",
       "      <td>2800</td>\n",
       "    </tr>\n",
       "    <tr>\n",
       "      <th>2</th>\n",
       "      <td>3</td>\n",
       "      <td>9000</td>\n",
       "      <td>9050</td>\n",
       "      <td>6667</td>\n",
       "      <td>13658</td>\n",
       "      <td>5167</td>\n",
       "      <td>14333</td>\n",
       "      <td>6250</td>\n",
       "      <td>2333</td>\n",
       "    </tr>\n",
       "    <tr>\n",
       "      <th>3</th>\n",
       "      <td>4</td>\n",
       "      <td>8600</td>\n",
       "      <td>9400</td>\n",
       "      <td>6700</td>\n",
       "      <td>16583</td>\n",
       "      <td>5600</td>\n",
       "      <td>13000</td>\n",
       "      <td>6200</td>\n",
       "      <td>2600</td>\n",
       "    </tr>\n",
       "    <tr>\n",
       "      <th>4</th>\n",
       "      <td>5</td>\n",
       "      <td>9429</td>\n",
       "      <td>7700</td>\n",
       "      <td>6714</td>\n",
       "      <td>14168</td>\n",
       "      <td>5214</td>\n",
       "      <td>14143</td>\n",
       "      <td>6071</td>\n",
       "      <td>2429</td>\n",
       "    </tr>\n",
       "    <tr>\n",
       "      <th>5</th>\n",
       "      <td>6</td>\n",
       "      <td>8300</td>\n",
       "      <td>8200</td>\n",
       "      <td>7200</td>\n",
       "      <td>14969</td>\n",
       "      <td>5900</td>\n",
       "      <td>13200</td>\n",
       "      <td>7400</td>\n",
       "      <td>2700</td>\n",
       "    </tr>\n",
       "    <tr>\n",
       "      <th>6</th>\n",
       "      <td>7</td>\n",
       "      <td>9167</td>\n",
       "      <td>7817</td>\n",
       "      <td>6667</td>\n",
       "      <td>15496</td>\n",
       "      <td>5667</td>\n",
       "      <td>14167</td>\n",
       "      <td>6917</td>\n",
       "      <td>2667</td>\n",
       "    </tr>\n",
       "    <tr>\n",
       "      <th>7</th>\n",
       "      <td>8</td>\n",
       "      <td>8389</td>\n",
       "      <td>7944</td>\n",
       "      <td>7167</td>\n",
       "      <td>13407</td>\n",
       "      <td>5278</td>\n",
       "      <td>13444</td>\n",
       "      <td>7500</td>\n",
       "      <td>2444</td>\n",
       "    </tr>\n",
       "    <tr>\n",
       "      <th>8</th>\n",
       "      <td>9</td>\n",
       "      <td>8897</td>\n",
       "      <td>7797</td>\n",
       "      <td>6931</td>\n",
       "      <td>15455</td>\n",
       "      <td>5793</td>\n",
       "      <td>14414</td>\n",
       "      <td>7621</td>\n",
       "      <td>2741</td>\n",
       "    </tr>\n",
       "    <tr>\n",
       "      <th>9</th>\n",
       "      <td>10</td>\n",
       "      <td>8808</td>\n",
       "      <td>7577</td>\n",
       "      <td>7269</td>\n",
       "      <td>15148</td>\n",
       "      <td>5231</td>\n",
       "      <td>14154</td>\n",
       "      <td>6308</td>\n",
       "      <td>2931</td>\n",
       "    </tr>\n",
       "    <tr>\n",
       "      <th>10</th>\n",
       "      <td>11</td>\n",
       "      <td>8346</td>\n",
       "      <td>7800</td>\n",
       "      <td>7192</td>\n",
       "      <td>14162</td>\n",
       "      <td>5346</td>\n",
       "      <td>13077</td>\n",
       "      <td>6846</td>\n",
       "      <td>2538</td>\n",
       "    </tr>\n",
       "    <tr>\n",
       "      <th>11</th>\n",
       "      <td>12</td>\n",
       "      <td>7667</td>\n",
       "      <td>7778</td>\n",
       "      <td>6556</td>\n",
       "      <td>16139</td>\n",
       "      <td>6000</td>\n",
       "      <td>14333</td>\n",
       "      <td>7333</td>\n",
       "      <td>2167</td>\n",
       "    </tr>\n",
       "    <tr>\n",
       "      <th>12</th>\n",
       "      <td>13</td>\n",
       "      <td>8200</td>\n",
       "      <td>9350</td>\n",
       "      <td>7350</td>\n",
       "      <td>14323</td>\n",
       "      <td>5400</td>\n",
       "      <td>14300</td>\n",
       "      <td>7350</td>\n",
       "      <td>2350</td>\n",
       "    </tr>\n",
       "    <tr>\n",
       "      <th>13</th>\n",
       "      <td>14</td>\n",
       "      <td>8300</td>\n",
       "      <td>8250</td>\n",
       "      <td>7200</td>\n",
       "      <td>14794</td>\n",
       "      <td>5500</td>\n",
       "      <td>13800</td>\n",
       "      <td>7100</td>\n",
       "      <td>2500</td>\n",
       "    </tr>\n",
       "    <tr>\n",
       "      <th>14</th>\n",
       "      <td>15</td>\n",
       "      <td>7643</td>\n",
       "      <td>7743</td>\n",
       "      <td>7286</td>\n",
       "      <td>12663</td>\n",
       "      <td>5143</td>\n",
       "      <td>12286</td>\n",
       "      <td>6500</td>\n",
       "      <td>2357</td>\n",
       "    </tr>\n",
       "    <tr>\n",
       "      <th>15</th>\n",
       "      <td>16</td>\n",
       "      <td>8750</td>\n",
       "      <td>8500</td>\n",
       "      <td>8125</td>\n",
       "      <td>15667</td>\n",
       "      <td>6000</td>\n",
       "      <td>13000</td>\n",
       "      <td>8250</td>\n",
       "      <td>2750</td>\n",
       "    </tr>\n",
       "  </tbody>\n",
       "</table>\n",
       "</div>"
      ],
      "text/plain": [
       "    지역    냉면   비빔밥  김치찌개    삼겹살   자장면    삼계탕   칼국수    김밥\n",
       "0    1  9731  9154  7077  16897  5692  14231  7615  2731\n",
       "1    2  8400  8700  7100  13600  5700  14600  7400  2800\n",
       "2    3  9000  9050  6667  13658  5167  14333  6250  2333\n",
       "3    4  8600  9400  6700  16583  5600  13000  6200  2600\n",
       "4    5  9429  7700  6714  14168  5214  14143  6071  2429\n",
       "5    6  8300  8200  7200  14969  5900  13200  7400  2700\n",
       "6    7  9167  7817  6667  15496  5667  14167  6917  2667\n",
       "7    8  8389  7944  7167  13407  5278  13444  7500  2444\n",
       "8    9  8897  7797  6931  15455  5793  14414  7621  2741\n",
       "9   10  8808  7577  7269  15148  5231  14154  6308  2931\n",
       "10  11  8346  7800  7192  14162  5346  13077  6846  2538\n",
       "11  12  7667  7778  6556  16139  6000  14333  7333  2167\n",
       "12  13  8200  9350  7350  14323  5400  14300  7350  2350\n",
       "13  14  8300  8250  7200  14794  5500  13800  7100  2500\n",
       "14  15  7643  7743  7286  12663  5143  12286  6500  2357\n",
       "15  16  8750  8500  8125  15667  6000  13000  8250  2750"
      ]
     },
     "execution_count": 30,
     "metadata": {},
     "output_type": "execute_result"
    }
   ],
   "source": [
    "import pandas as pd\n",
    "import matplotlib.pyplot as plt\n",
    "from scipy import stats\n",
    "\n",
    "df = pd.read_excel(\"C:/Users/darkr/OneDrive/Desktop/2학년1학기/확통/외식비.xlsx\")\n",
    "df"
   ]
  },
  {
   "cell_type": "code",
   "execution_count": 33,
   "id": "b7312582-82d3-411b-849c-fac19cd2b9d3",
   "metadata": {},
   "outputs": [
    {
     "data": {
      "image/png": "[encoded data removed]",
      "text/plain": [
       "<Figure size 640x480 with 1 Axes>"
      ]
     },
     "metadata": {},
     "output_type": "display_data"
    },
    {
     "name": "stdout",
     "output_type": "stream",
     "text": [
      "\n",
      "\n",
      "\n"
     ]
    },
    {
     "data": {
      "image/png": "[encoded data removed]",
      "text/plain": [
       "<Figure size 640x480 with 1 Axes>"
      ]
     },
     "metadata": {},
     "output_type": "display_data"
    },
    {
     "name": "stdout",
     "output_type": "stream",
     "text": [
      "\n",
      "\n",
      "\n"
     ]
    },
    {
     "data": {
      "image/png": "[encoded data removed]",
      "text/plain": [
       "<Figure size 640x480 with 1 Axes>"
      ]
     },
     "metadata": {},
     "output_type": "display_data"
    },
    {
     "name": "stdout",
     "output_type": "stream",
     "text": [
      "\n",
      "\n",
      "\n"
     ]
    },
    {
     "data": {
      "image/png": "[encoded data removed]",
      "text/plain": [
       "<Figure size 640x480 with 1 Axes>"
      ]
     },
     "metadata": {},
     "output_type": "display_data"
    },
    {
     "name": "stdout",
     "output_type": "stream",
     "text": [
      "\n",
      "\n",
      "\n"
     ]
    },
    {
     "data": {
      "image/png": "[encoded data removed]",
      "text/plain": [
       "<Figure size 640x480 with 1 Axes>"
      ]
     },
     "metadata": {},
     "output_type": "display_data"
    },
    {
     "name": "stdout",
     "output_type": "stream",
     "text": [
      "\n",
      "\n",
      "\n"
     ]
    },
    {
     "data": {
      "image/png": "[encoded data removed]",
      "text/plain": [
       "<Figure size 640x480 with 1 Axes>"
      ]
     },
     "metadata": {},
     "output_type": "display_data"
    },
    {
     "name": "stdout",
     "output_type": "stream",
     "text": [
      "\n",
      "\n",
      "\n"
     ]
    },
    {
     "data": {
      "image/png": "[encoded data removed]",
      "text/plain": [
       "<Figure size 640x480 with 1 Axes>"
      ]
     },
     "metadata": {},
     "output_type": "display_data"
    },
    {
     "name": "stdout",
     "output_type": "stream",
     "text": [
      "\n",
      "\n",
      "\n"
     ]
    },
    {
     "data": {
      "image/png": "[encoded data removed]",
      "text/plain": [
       "<Figure size 640x480 with 1 Axes>"
      ]
     },
     "metadata": {},
     "output_type": "display_data"
    },
    {
     "name": "stdout",
     "output_type": "stream",
     "text": [
      "\n",
      "\n",
      "\n"
     ]
    }
   ],
   "source": [
    "import pandas as pd\n",
    "import matplotlib.pyplot as plt\n",
    "\n",
    "#plt.rcParams['font.family'] ='Malgun Gothic'\n",
    "plt.rcParams['font.family'] ='D2coding'\n",
    "\n",
    "df = pd.read_excel(\"C:/Users/darkr/OneDrive/Desktop/2학년1학기/확통/외식비.xlsx\")\n",
    "\n",
    "for a in df.columns:\n",
    "    if a=='지역':continue\n",
    "    plt.hist(df[a],label=a,bins=5)\n",
    "    plt.legend()\n",
    "    plt.show()\n",
    "    print('\\n\\n')"
   ]
  },
  {
   "cell_type": "code",
   "execution_count": null,
   "id": "a39e1f9c-5cd6-462b-8504-84957091e63d",
   "metadata": {},
   "outputs": [],
   "source": []
  },
  {
   "cell_type": "code",
   "execution_count": null,
   "id": "3630eedb-6074-4b54-9fa4-057c1ece5a4b",
   "metadata": {},
   "outputs": [],
   "source": []
  },
  {
   "cell_type": "code",
   "execution_count": null,
   "id": "c69416f3-c05f-4a69-a977-ec7ff47a68e6",
   "metadata": {},
   "outputs": [],
   "source": []
  },
  {
   "cell_type": "code",
   "execution_count": null,
   "id": "a87470f8-92f9-4236-bf53-9258ecbf2ae9",
   "metadata": {},
   "outputs": [],
   "source": []
  },
  {
   "cell_type": "code",
   "execution_count": null,
   "id": "52423e88-f34e-448f-ba54-9b0de7684356",
   "metadata": {},
   "outputs": [],
   "source": []
  }
 ],
 "metadata": {
  "kernelspec": {
   "display_name": "Python 3 (ipykernel)",
   "language": "python",
   "name": "python3"
  },
  "language_info": {
   "codemirror_mode": {
    "name": "ipython",
    "version": 3
   },
   "file_extension": ".py",
   "mimetype": "text/x-python",
   "name": "python",
   "nbconvert_exporter": "python",
   "pygments_lexer": "ipython3",
   "version": "3.11.5"
  }
 },
 "nbformat": 4,
 "nbformat_minor": 5
}
