{
 "cells": [
  {
   "cell_type": "markdown",
   "metadata": {
    "colab_type": "text",
    "id": "view-in-github"
   },
   "source": [
    "<a href=\"https://colab.research.google.com/github/maminseo/minseo/blob/main/%EA%B3%BC%EC%A0%9C2_2243359_%EB%A7%88%EB%AF%BC%EC%84%9C.ipynb\" target=\"_parent\"><img src=\"https://colab.research.google.com/assets/colab-badge.svg\" alt=\"Open In Colab\"/></a>"
   ]
  },
  {
   "cell_type": "markdown",
   "metadata": {
    "id": "rntFsivFPvvc"
   },
   "source": [
    "## 과제2 - 자료구조와 재귀\n",
    "1. 재귀 초급 문제  \n",
    "팰린드롬이란, 앞에서부터 읽었을 때와 뒤에서부터 읽었을 때가 같은 문자열을 말한다.  \n",
    "어떤 문자열이 팰린드롬인지 판별하는 문제는 재귀 함수를 이용해 쉽게 해결할 수 있다. 아래 코드의 isPalindrome 함수는 주어진 문자열이 팰린드롬이면 1, 팰린드롬이 아니면 0을 반환하는 함수다.  \n",
    "동민이는 위에 작성된 isPalindrome 함수를 이용하여 어떤 문자열이 팰린드롬인지 여부를 판단하려고 한다.  \n",
    "문자열 S를 isPalindrome 함수의 인자로 전달하여 팰린드롬 반환값과 판별하는 과정에서 recursion 함수를 몇 번 호출하는지 아래와 같이 출력하는 프로그램을 코딩하시오.\n",
    "\n",
    "\n",
    "```python\n",
    "def recursion(s, l, r):\n",
    "    if l >= r: return 1\n",
    "    elif s[l] != s[r]: return 0\n",
    "    else: return recursion(s, l+1, r-1)  \n",
    "\n",
    "def isPalindrome(s):\n",
    "    return recursion(s, 0, len(s)-1)\n",
    "\n",
    "print('ABBA:', isPalindrome('ABBA'))\n",
    "print('ABC:', isPalindrome('ABC'))\n",
    "```\n",
    "  \n",
    "입력은 다음과 같이 주어진다.  \n",
    "첫번째 줄에는 테스트 케이스의 수 T가 주어진다.  \n",
    "두번째 줄부터 T + 1번째 줄까지는 팰린드롬인지 판별할 문자열이 주어진다.  \n",
    "  \n",
    "입력\n",
    "\n",
    "```\n",
    "5\n",
    "AAA\n",
    "ABBA\n",
    "ABABA\n",
    "ABCA\n",
    "PALINDROME\n",
    "```\n",
    "각 테스트 케이스마다, isPalindrome 함수의 반환값과 recursion 함수의 호출 횟수를 한 줄에 공백으로 구분하여 출력한다.  \n",
    "\n",
    "출력\n",
    "\n",
    "```\n",
    "1 2\n",
    "1 3\n",
    "1 3\n",
    "0 2\n",
    "0 1\n",
    "```\n",
    "\n"
   ]
  },
  {
   "cell_type": "code",
   "execution_count": null,
   "metadata": {
    "colab": {
     "base_uri": "https://localhost:8080/"
    },
    "id": "o2KcXD_9PwyQ",
    "outputId": "141ff9e7-3183-490d-e91c-402bec079ac7"
   },
   "outputs": [
    {
     "name": "stdout",
     "output_type": "stream",
     "text": [
      "5\n",
      "AAA\n",
      "ABBA\n",
      "ABABA\n",
      "ABCA\n",
      "PALINDROME\n",
      "1 2\n",
      "1 3\n",
      "1 3\n",
      "0 2\n",
      "0 1\n"
     ]
    }
   ],
   "source": [
    "def recursion(s, l, r, count=1):\n",
    "    if l >= r: return 1, count\n",
    "    elif s[l] != s[r]: return 0, count\n",
    "    else: return recursion(s, l+1, r-1, count+1)\n",
    "\n",
    "def isPalindrome(s):\n",
    "    return recursion(s, 0, len(s)-1)\n",
    "\n",
    "T = int(input())\n",
    "results = []\n",
    "\n",
    "for _ in range(T):\n",
    "    s = input()\n",
    "    result, count = isPalindrome(s)\n",
    "    results.append((result, count))\n",
    "\n",
    "for result, count in results:\n",
    "    print(result, count)"
   ]
  },
  {
   "cell_type": "markdown",
   "metadata": {
    "id": "RJ_dxKi6PxRy"
   },
   "source": [
    "2. 재귀 중급 문제  \n",
    "평소에 질문을 잘 받아주기로 유명한 동아대학교 JI 교수님은 학생들로부터 재귀함수가 무엇인지에 대하여 많은 질문을 받아왔다.  \n",
    "매번 질문을 잘 받아주셨던 JI 교수님은 재귀함수가 무엇인지 물어보는 학생들을 위한 자동 응답 챗봇을 제작하였다.  \n",
    "출력을 원하는 재귀 횟수 N(1<=N<=50)을 입력받아 다음과 같이 출력하는 프로그램을 코딩하시오.\n",
    "\n",
    "입력  \n",
    "\n",
    "\n",
    "```\n",
    "4\n",
    "```\n",
    "\n",
    "출력\n",
    "\n",
    "\n",
    "```\n",
    "어느 한 컴퓨터공학과 학생이 유명한 교수님을 찾아가 물었다.\n",
    "\"재귀함수가 뭔가요?\"\n",
    "\"잘 들어보게. 옛날옛날 한 산 꼭대기에 이세상 모든 지식을 통달한 선인이 있었어.\n",
    "마을 사람들은 모두 그 선인에게 수많은 질문을 했고, 모두 지혜롭게 대답해 주었지.\n",
    "그의 답은 대부분 옳았다고 하네. 그런데 어느 날, 그 선인에게 한 선비가 찾아와서 물었어.\"\n",
    "____\"재귀함수가 뭔가요?\"\n",
    "____\"잘 들어보게. 옛날옛날 한 산 꼭대기에 이세상 모든 지식을 통달한 선인이 있었어.\n",
    "____마을 사람들은 모두 그 선인에게 수많은 질문을 했고, 모두 지혜롭게 대답해 주었지.\n",
    "____그의 답은 대부분 옳았다고 하네. 그런데 어느 날, 그 선인에게 한 선비가 찾아와서 물었어.\"\n",
    "________\"재귀함수가 뭔가요?\"\n",
    "________\"잘 들어보게. 옛날옛날 한 산 꼭대기에 이세상 모든 지식을 통달한 선인이 있었어.\n",
    "________마을 사람들은 모두 그 선인에게 수많은 질문을 했고, 모두 지혜롭게 대답해 주었지.\n",
    "________그의 답은 대부분 옳았다고 하네. 그런데 어느 날, 그 선인에게 한 선비가 찾아와서 물었어.\"\n",
    "____________\"재귀함수가 뭔가요?\"\n",
    "____________\"잘 들어보게. 옛날옛날 한 산 꼭대기에 이세상 모든 지식을 통달한 선인이 있었어.\n",
    "____________마을 사람들은 모두 그 선인에게 수많은 질문을 했고, 모두 지혜롭게 대답해 주었지.\n",
    "____________그의 답은 대부분 옳았다고 하네. 그런데 어느 날, 그 선인에게 한 선비가 찾아와서 물었어.\"\n",
    "________________\"재귀함수가 뭔가요?\"\n",
    "________________\"재귀함수는 자기 자신을 호출하는 함수라네\"\n",
    "________________라고 답변하였지.\n",
    "____________라고 답변하였지.\n",
    "________라고 답변하였지.\n",
    "____라고 답변하였지.\n",
    "라고 답변하였지.\n",
    "```\n",
    "\n",
    "입력  \n",
    "\n",
    "\n",
    "```\n",
    "2\n",
    "```\n",
    "\n",
    "출력\n",
    "\n",
    "\n",
    "```\n",
    "어느 한 컴퓨터공학과 학생이 유명한 교수님을 찾아가 물었다.\n",
    "\"재귀함수가 뭔가요?\"\n",
    "\"잘 들어보게. 옛날옛날 한 산 꼭대기에 이세상 모든 지식을 통달한 선인이 있었어.\n",
    "마을 사람들은 모두 그 선인에게 수많은 질문을 했고, 모두 지혜롭게 대답해 주었지.\n",
    "그의 답은 대부분 옳았다고 하네. 그런데 어느 날, 그 선인에게 한 선비가 찾아와서 물었어.\"\n",
    "____\"재귀함수가 뭔가요?\"\n",
    "____\"잘 들어보게. 옛날옛날 한 산 꼭대기에 이세상 모든 지식을 통달한 선인이 있었어.\n",
    "____마을 사람들은 모두 그 선인에게 수많은 질문을 했고, 모두 지혜롭게 대답해 주었지.\n",
    "____그의 답은 대부분 옳았다고 하네. 그런데 어느 날, 그 선인에게 한 선비가 찾아와서 물었어.\"\n",
    "________\"재귀함수가 뭔가요?\"\n",
    "________\"재귀함수는 자기 자신을 호출하는 함수라네\"\n",
    "________라고 답변하였지.\n",
    "____라고 답변하였지.\n",
    "라고 답변하였지.\n",
    "```\n",
    "\n"
   ]
  },
  {
   "cell_type": "code",
   "execution_count": null,
   "metadata": {
    "colab": {
     "base_uri": "https://localhost:8080/"
    },
    "id": "agL92X1zQ3G1",
    "outputId": "e9a41013-3e58-4402-c498-af6b3aed6202"
   },
   "outputs": [
    {
     "name": "stdout",
     "output_type": "stream",
     "text": [
      "0\n",
      "1부터 50사이의 숫자를 입력해주세요\n",
      "2\n",
      "어느 한 컴퓨터공학과 학생이 유명한 교수님을 찾아가 물었다.\n",
      "\"재귀함수가 뭔가요?\"\n",
      "\"잘 들어보게. 옛날옛날 한 산 꼭대기에 이세상 모든 지식을 통달한 선인이 있었어.\n",
      "마을 사람들은 모두 그 선인에게 수많은 질문을 했고, 모두 지혜롭게 대답해 주었지.\n",
      "그의 답은 대부분 옳았다고 하네. 그런데 어느 날, 그 선인에게 한 선비가 찾아와서 물었어.\"\n",
      "____\"재귀함수가 뭔가요?\"\n",
      "____\"잘 들어보게. 옛날옛날 한 산 꼭대기에 이세상 모든 지식을 통달한 선인이 있었어.\n",
      "____마을 사람들은 모두 그 선인에게 수많은 질문을 했고, 모두 지혜롭게 대답해 주었지.\n",
      "____그의 답은 대부분 옳았다고 하네. 그런데 어느 날, 그 선인에게 한 선비가 찾아와서 물었어.\"\n",
      "________\"재귀함수가 뭔가요?\"\n",
      "________\"재귀함수는 자기 자신을 호출하는 함수라네\"\n",
      "________라고 답변하였지.\n",
      "____라고 답변하였지.\n",
      "라고 답변하였지.\n"
     ]
    }
   ],
   "source": [
    "def recursion(n, depth):\n",
    "\n",
    "    indent = '____' * depth\n",
    "\n",
    "    if n == 0:\n",
    "        print(indent + '\"재귀함수가 뭔가요?\"')\n",
    "        print(indent + '\"재귀함수는 자기 자신을 호출하는 함수라네\"')\n",
    "    elif n < 0:\n",
    "        return\n",
    "    elif n > 0:\n",
    "        print(indent + '\"재귀함수가 뭔가요?\"')\n",
    "        print(indent + '\"잘 들어보게. 옛날옛날 한 산 꼭대기에 이세상 모든 지식을 통달한 선인이 있었어.')\n",
    "        print(indent + '마을 사람들은 모두 그 선인에게 수많은 질문을 했고, 모두 지혜롭게 대답해 주었지.')\n",
    "        print(indent + '그의 답은 대부분 옳았다고 하네. 그런데 어느 날, 그 선인에게 한 선비가 찾아와서 물었어.\"')\n",
    "\n",
    "    recursion(n-1, depth+1)\n",
    "\n",
    "    print(indent + '라고 답변하였지.')\n",
    "\n",
    "\n",
    "while True:\n",
    "  n = int(input())\n",
    "\n",
    "  if 1 <= n <= 50:\n",
    "    print(\"어느 한 컴퓨터공학과 학생이 유명한 교수님을 찾아가 물었다.\")\n",
    "    recursion(n, 0)\n",
    "    break\n",
    "  else: print(\"1부터 50사이의 숫자를 입력해주세요\")"
   ]
  },
  {
   "cell_type": "markdown",
   "metadata": {
    "id": "wQO7T5wPQ7rt"
   },
   "source": [
    "p3. 재귀 고급 문제  \n",
    "A와 B로만 이루어진 영어 단어는 존재한다. 이 점을 이용해 간단한 게임을 제작해보자. 두 문자열 S와 T가 주어졌을 때, S를 T로 바꾸는 게임이다. 문자열을 바꿀 때는 다음과 같은 두 가지 연산만 가능하다.\n",
    "\n",
    "\n",
    "*   문자열의 뒤에 A를 추가한다.\n",
    "*   문자열의 뒤에 B를 추가하고 문자열을 뒤집는다.\n",
    "\n",
    "\n",
    "  S를 T로 바꿀 수 있으면 1을 없으면 0을 출력하는 프로그램을 코딩하시오.\n",
    "\n",
    "***추가 :***  \n",
    "\n",
    "\n",
    "힌트 1.   예를 들어, A라는 문자열은 AA, BA라는 문자열이 될 수 있다. AA는 AAA, BAA가 될 수 있고, BA는 BAA, BAB가 될 수 있다.  \n",
    "\n",
    "힌트 2.   문자열 T를 문자열 S로 줄여가며 재귀함수를 구현해볼 것.\n",
    "***\n",
    "\n",
    "입력\n",
    "\n",
    "```\n",
    "A\n",
    "BABA\n",
    "```\n",
    "출력\n",
    "\n",
    "```\n",
    "1\n",
    "```\n",
    "\n",
    "\n"
   ]
  },
  {
   "cell_type": "code",
   "execution_count": 1,
   "metadata": {
    "colab": {
     "base_uri": "https://localhost:8080/"
    },
    "id": "3ibQoOWRQ9S8",
    "outputId": "dadefbe5-18e7-4298-fa09-75b1084e79c6"
   },
   "outputs": [
    {
     "name": "stdin",
     "output_type": "stream",
     "text": [
      " A\n",
      " BABA\n"
     ]
    },
    {
     "name": "stdout",
     "output_type": "stream",
     "text": [
      "1\n"
     ]
    }
   ],
   "source": [
    "def recursion(S, T):\n",
    "\n",
    "    if S == T:\n",
    "      return 1\n",
    "    elif len(T) > len(S):\n",
    "      if T[-1] == 'A' and T[0] == 'B':\n",
    "        return max(recursion(S, T[:-1]),recursion(S, T[::-1][:-1]))\n",
    "      elif T[-1] == 'A':\n",
    "        return recursion(S, T[:-1])\n",
    "      elif T[0] == 'B':\n",
    "        return recursion(S, T[::-1][:-1])\n",
    "\n",
    "    return 0\n",
    "\n",
    "S = input()\n",
    "T = input()\n",
    "\n",
    "print(recursion(S, T))\n"
   ]
  }
 ],
 "metadata": {
  "colab": {
   "include_colab_link": true,
   "provenance": []
  },
  "kernelspec": {
   "display_name": "Python 3 (ipykernel)",
   "language": "python",
   "name": "python3"
  },
  "language_info": {
   "codemirror_mode": {
    "name": "ipython",
    "version": 3
   },
   "file_extension": ".py",
   "mimetype": "text/x-python",
   "name": "python",
   "nbconvert_exporter": "python",
   "pygments_lexer": "ipython3",
   "version": "3.11.5"
  }
 },
 "nbformat": 4,
 "nbformat_minor": 4
}
