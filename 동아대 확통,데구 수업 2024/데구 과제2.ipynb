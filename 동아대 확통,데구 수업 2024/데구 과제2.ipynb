{
 "cells": [
  {
   "cell_type": "code",
   "execution_count": 2,
   "id": "c0dfe248-d882-4073-a80d-116dcde381da",
   "metadata": {
    "tags": []
   },
   "outputs": [
    {
     "name": "stdout",
     "output_type": "stream",
     "text": [
      "ABBA: 1\n",
      "ABC: 0\n"
     ]
    }
   ],
   "source": [
    "def recursion(s, l, r):\n",
    "    if l >= r: return 1 \n",
    "    elif s[l] != s[r]: return 0\n",
    "    else: return recursion(s, l+1, r-1)  \n",
    "\n",
    "def isPalindrome(s):\n",
    "    return recursion(s, 0, len(s)-1)\n",
    "\n",
    "print('ABBA:', isPalindrome('ABBA'))\n",
    "print('ABC:', isPalindrome('ABC'))"
   ]
  },
  {
   "cell_type": "code",
   "execution_count": 2,
   "id": "2aa1ba7d-d0a8-4c68-bcd6-f7dde472ec96",
   "metadata": {
    "tags": []
   },
   "outputs": [
    {
     "name": "stdin",
     "output_type": "stream",
     "text": [
      " 5\n",
      " AAA\n",
      " ABA\n",
      " ABBA\n",
      " ABABA\n",
      " ABHA\n"
     ]
    },
    {
     "name": "stdout",
     "output_type": "stream",
     "text": [
      "1 2\n",
      "1 2\n",
      "1 3\n",
      "1 3\n",
      "0 2\n"
     ]
    }
   ],
   "source": [
    "def recursion(s, l, r, count=1):\n",
    "    if l >= r: return 1, count\n",
    "    elif s[l] != s[r]: return 0, count\n",
    "    else: return recursion(s, l+1, r-1, count+1)\n",
    "\n",
    "def isPalindrome(s):\n",
    "    return recursion(s, 0, len(s)-1)\n",
    "\n",
    "T = int(input())\n",
    "results = []\n",
    "\n",
    "for _ in range(T):\n",
    "    s = input()\n",
    "    result, count = isPalindrome(s)\n",
    "    results.append((result, count))\n",
    "\n",
    "for result, count in results:\n",
    "    print(result, count)\n"
   ]
  },
  {
   "cell_type": "code",
   "execution_count": 30,
   "id": "1a56c8f8-86ac-4754-9b8a-bdd5a92a5a33",
   "metadata": {
    "tags": []
   },
   "outputs": [
    {
     "name": "stdin",
     "output_type": "stream",
     "text": [
      " 2\n"
     ]
    },
    {
     "name": "stdout",
     "output_type": "stream",
     "text": [
      "어느 한 컴퓨터공학과 학생이 유명한 교수님을 찾아가 물었다.\n",
      "\"재귀함수가 뭔가요?\"\n",
      "\"잘 들어보게. 옛날옛날 한 산 꼭대기에 이세상 모든 지식을 통달한 선인이 있었어.\n",
      "마을 사람들은 모두 그 선인에게 수많은 질문을 했고, 모두 지혜롭게 대답해 주었지.\n",
      "그의 답은 대부분 옳았다고 하네. 그런데 어느 날, 그 선인에게 한 선비가 찾아와서 물었어.\"\n",
      "____\"재귀함수가 뭔가요?\"\n",
      "____\"잘 들어보게. 옛날옛날 한 산 꼭대기에 이세상 모든 지식을 통달한 선인이 있었어.\n",
      "____마을 사람들은 모두 그 선인에게 수많은 질문을 했고, 모두 지혜롭게 대답해 주었지.\n",
      "____그의 답은 대부분 옳았다고 하네. 그런데 어느 날, 그 선인에게 한 선비가 찾아와서 물었어.\"\n",
      "________\"재귀함수가 뭔가요?\"\n",
      "________\"재귀함수는 자기 자신을 호출하는 함수라네\"\n",
      "________라고 답변하였지.\n",
      "____라고 답변하였지.\n",
      "라고 답변하였지.\n"
     ]
    }
   ],
   "source": [
    "def recursion(n, depth):\n",
    "    \n",
    "    indent = '____' * depth\n",
    "    \n",
    "    if n == 0:\n",
    "        print(indent + '\"재귀함수가 뭔가요?\"')\n",
    "        print(indent + '\"재귀함수는 자기 자신을 호출하는 함수라네\"')\n",
    "    elif n < 0:\n",
    "        return\n",
    "    elif n > 0:\n",
    "        print(indent + '\"재귀함수가 뭔가요?\"')\n",
    "        print(indent + '\"잘 들어보게. 옛날옛날 한 산 꼭대기에 이세상 모든 지식을 통달한 선인이 있었어.')\n",
    "        print(indent + '마을 사람들은 모두 그 선인에게 수많은 질문을 했고, 모두 지혜롭게 대답해 주었지.')\n",
    "        print(indent + '그의 답은 대부분 옳았다고 하네. 그런데 어느 날, 그 선인에게 한 선비가 찾아와서 물었어.\"')\n",
    "        \n",
    "    recursion(n-1, depth+1)\n",
    "        \n",
    "    print(indent + '라고 답변하였지.')\n",
    "    \n",
    "    \n",
    "n = int(input())\n",
    "\n",
    "print(\"어느 한 컴퓨터공학과 학생이 유명한 교수님을 찾아가 물었다.\")\n",
    "recursion(n, 0)\n"
   ]
  },
  {
   "cell_type": "code",
   "execution_count": 41,
   "id": "c0c1bb90-dd63-405f-9e2a-652141e6684b",
   "metadata": {},
   "outputs": [
    {
     "name": "stdin",
     "output_type": "stream",
     "text": [
      " 0\n"
     ]
    },
    {
     "name": "stdout",
     "output_type": "stream",
     "text": [
      "1부터 50사이의 숫자를 입력해주세요\n"
     ]
    },
    {
     "name": "stdin",
     "output_type": "stream",
     "text": [
      " 4\n"
     ]
    },
    {
     "name": "stdout",
     "output_type": "stream",
     "text": [
      "어느 한 컴퓨터공학과 학생이 유명한 교수님을 찾아가 물었다.\n",
      "\"재귀함수가 뭔가요?\"\n",
      "\"잘 들어보게. 옛날옛날 한 산 꼭대기에 이세상 모든 지식을 통달한 선인이 있었어.\n",
      "마을 사람들은 모두 그 선인에게 수많은 질문을 했고, 모두 지혜롭게 대답해 주었지.\n",
      "그의 답은 대부분 옳았다고 하네. 그런데 어느 날, 그 선인에게 한 선비가 찾아와서 물었어.\"\n",
      "____\"재귀함수가 뭔가요?\"\n",
      "____\"잘 들어보게. 옛날옛날 한 산 꼭대기에 이세상 모든 지식을 통달한 선인이 있었어.\n",
      "____마을 사람들은 모두 그 선인에게 수많은 질문을 했고, 모두 지혜롭게 대답해 주었지.\n",
      "____그의 답은 대부분 옳았다고 하네. 그런데 어느 날, 그 선인에게 한 선비가 찾아와서 물었어.\"\n",
      "________\"재귀함수가 뭔가요?\"\n",
      "________\"잘 들어보게. 옛날옛날 한 산 꼭대기에 이세상 모든 지식을 통달한 선인이 있었어.\n",
      "________마을 사람들은 모두 그 선인에게 수많은 질문을 했고, 모두 지혜롭게 대답해 주었지.\n",
      "________그의 답은 대부분 옳았다고 하네. 그런데 어느 날, 그 선인에게 한 선비가 찾아와서 물었어.\"\n",
      "____________\"재귀함수가 뭔가요?\"\n",
      "____________\"잘 들어보게. 옛날옛날 한 산 꼭대기에 이세상 모든 지식을 통달한 선인이 있었어.\n",
      "____________마을 사람들은 모두 그 선인에게 수많은 질문을 했고, 모두 지혜롭게 대답해 주었지.\n",
      "____________그의 답은 대부분 옳았다고 하네. 그런데 어느 날, 그 선인에게 한 선비가 찾아와서 물었어.\"\n",
      "________________\"재귀함수가 뭔가요?\"\n",
      "________________\"재귀함수는 자기 자신을 호출하는 함수라네\"\n",
      "________________라고 답변하였지.\n",
      "____________라고 답변하였지.\n",
      "________라고 답변하였지.\n",
      "____라고 답변하였지.\n",
      "라고 답변하였지.\n"
     ]
    }
   ],
   "source": [
    "def recursion(n, depth):\n",
    "\n",
    "    indent = '____' * depth\n",
    "\n",
    "    if n == 0:\n",
    "        print(indent + '\"재귀함수가 뭔가요?\"')\n",
    "        print(indent + '\"재귀함수는 자기 자신을 호출하는 함수라네\"')\n",
    "    elif n < 0:\n",
    "        return\n",
    "    elif n > 0:\n",
    "        print(indent + '\"재귀함수가 뭔가요?\"')\n",
    "        print(indent + '\"잘 들어보게. 옛날옛날 한 산 꼭대기에 이세상 모든 지식을 통달한 선인이 있었어.')\n",
    "        print(indent + '마을 사람들은 모두 그 선인에게 수많은 질문을 했고, 모두 지혜롭게 대답해 주었지.')\n",
    "        print(indent + '그의 답은 대부분 옳았다고 하네. 그런데 어느 날, 그 선인에게 한 선비가 찾아와서 물었어.\"')\n",
    "  \n",
    "\n",
    "    recursion(n-1, depth+1)\n",
    "\n",
    "    print(indent + '라고 답변하였지.')\n",
    "\n",
    "while True:\n",
    "    n = int(input())\n",
    "    \n",
    "    if 1 <= n <= 50:\n",
    "        print(\"어느 한 컴퓨터공학과 학생이 유명한 교수님을 찾아가 물었다.\")\n",
    "        recursion(n, 0)\n",
    "        break\n",
    "    else:print(\"1부터 50사이의 숫자를 입력해주세요\")"
   ]
  },
  {
   "cell_type": "code",
   "execution_count": 45,
   "id": "8c8a3416-d06a-40e0-8dbb-f3e11505ea80",
   "metadata": {
    "tags": []
   },
   "outputs": [
    {
     "name": "stdin",
     "output_type": "stream",
     "text": [
      " A\n",
      " BABA\n"
     ]
    },
    {
     "name": "stdout",
     "output_type": "stream",
     "text": [
      "1\n"
     ]
    }
   ],
   "source": [
    "def recursion(S, T):\n",
    "\n",
    "    if S == T:\n",
    "        return 1\n",
    "    elif len(T) > len(S):\n",
    "        if T[-1] == 'A' and T[0] == 'B':\n",
    "            return max(recursion(S, T[:-1]),recursion(S, T[::-1][:-1]))\n",
    "        elif T[-1] == 'A': \n",
    "            return recursion(S, T[:-1])\n",
    "        elif T[0] == 'B':\n",
    "            return recursion(S, T[::-1][:-1])\n",
    "    \n",
    "    return 0\n",
    "\n",
    "S = input()\n",
    "T = input()\n",
    "\n",
    "print(recursion(S, T))\n"
   ]
  },
  {
   "cell_type": "code",
   "execution_count": null,
   "id": "eedd3c3c-2fc8-4338-aad5-63f394bf2f13",
   "metadata": {},
   "outputs": [],
   "source": []
  },
  {
   "cell_type": "code",
   "execution_count": null,
   "id": "d8489ee3-b44e-4e6b-a260-f53ae01e3a55",
   "metadata": {},
   "outputs": [],
   "source": []
  },
  {
   "cell_type": "code",
   "execution_count": null,
   "id": "cc76fd45-d874-481b-91c0-62c454766790",
   "metadata": {},
   "outputs": [],
   "source": []
  },
  {
   "cell_type": "code",
   "execution_count": null,
   "id": "0a9b6914-da94-4bb6-9c42-bf1f0be48b86",
   "metadata": {},
   "outputs": [],
   "source": []
  },
  {
   "cell_type": "code",
   "execution_count": null,
   "id": "582524c4-d76f-4028-b391-4deab7c5e24e",
   "metadata": {},
   "outputs": [],
   "source": []
  }
 ],
 "metadata": {
  "kernelspec": {
   "display_name": "Python 3 (ipykernel)",
   "language": "python",
   "name": "python3"
  },
  "language_info": {
   "codemirror_mode": {
    "name": "ipython",
    "version": 3
   },
   "file_extension": ".py",
   "mimetype": "text/x-python",
   "name": "python",
   "nbconvert_exporter": "python",
   "pygments_lexer": "ipython3",
   "version": "3.11.5"
  }
 },
 "nbformat": 4,
 "nbformat_minor": 5
}
