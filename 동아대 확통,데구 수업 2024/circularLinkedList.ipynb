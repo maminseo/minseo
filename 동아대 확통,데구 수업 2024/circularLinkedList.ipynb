{
 "cells": [
  {
   "cell_type": "markdown",
   "metadata": {
    "colab_type": "text",
    "id": "view-in-github"
   },
   "source": [
    "<a href=\"https://colab.research.google.com/github/maminseo/minseo/blob/main/circularLinkedList.ipynb\" target=\"_parent\"><img src=\"https://colab.research.google.com/assets/colab-badge.svg\" alt=\"Open In Colab\"/></a>"
   ]
  },
  {
   "cell_type": "markdown",
   "metadata": {
    "id": "PzIeWcdLB6ai"
   },
   "source": [
    "List Node"
   ]
  },
  {
   "cell_type": "code",
   "execution_count": null,
   "metadata": {
    "id": "vDY0kLW6B3o2"
   },
   "outputs": [],
   "source": [
    "class ListNode:\n",
    "\tdef __init__(self, newItem, nextNode:'ListNode'):\n",
    "\t\tself.item = newItem\n",
    "\t\tself.next = nextNode"
   ]
  },
  {
   "cell_type": "markdown",
   "metadata": {
    "id": "rgIRZNS2B9xP"
   },
   "source": [
    "Circular Linked List"
   ]
  },
  {
   "cell_type": "code",
   "execution_count": null,
   "metadata": {
    "id": "ljE4evLIB_8T"
   },
   "outputs": [],
   "source": [
    "class CircularLinkedList:\n",
    "\tdef __init__(self):\n",
    "\t\tself.__tail = ListNode(\"dummy\", None)\n",
    "\t\tself.__tail.next = self.__tail\n",
    "\t\tself.__numItems = 0\n",
    "\n",
    "\tdef insert(self, i:int, newItem) -> None:\n",
    "\t\tif (i >= 0 and i <= self.__numItems):\n",
    "\t\t\tprev = self.getNode(i - 1)\n",
    "\t\t\tnewNode = ListNode(newItem, prev.next)\n",
    "\t\t\tprev.next = newNode\n",
    "\t\t\tif i == self.__numItems:\n",
    "\t\t\t\tself.__tail = newNode\n",
    "\t\t\tself.__numItems += 1\n",
    "\t\telse:\n",
    "\t\t\tprint(\"index\", i, \": out of bound in insert()\") # 필요 시 에러 처리\n",
    "\n",
    "\tdef append(self, newItem) -> None:\n",
    "\t\tnewNode = ListNode(newItem, self.__tail.next)\n",
    "\t\tself.__tail.next = newNode\n",
    "\t\tself.__tail = newNode\n",
    "\t\tself.__numItems += 1\n",
    "\n",
    "\tdef pop(self, *args):\n",
    "\t\t# 가변 파라미터. 인자가 없거나 -1이면 마지막 원소로 처리하기 위함. 파이썬 리스트 규칙 만족\n",
    "\t\tif self.isEmpty():\n",
    "\t\t\treturn None\n",
    "\t\t# 인덱스 i 결정\n",
    "\t\tif len(args) != 0: # pop(k)과 같이 인자가 있으면 i = k 할당\n",
    "\t\t\ti = args[0]\n",
    "\t\tif len(args) == 0 or i == -1:# pop()에 인자가 없거나 pop(-1)이면 i에 맨 끝 인덱스 할당\n",
    "\t\t\ti = self.__numItems - 1\n",
    "\t\t# i번 원소 삭제\n",
    "\t\tif (i >= 0 and i <= self.__numItems - 1):\n",
    "\t\t\tprev = self.getNode(i - 1)\n",
    "\t\t\tretItem = prev.next.item\n",
    "\t\t\tprev.next = prev.next.next\n",
    "\t\t\tif i == self.__numItems - 1:\n",
    "\t\t\t\tself.__tail = prev\n",
    "\t\t\tself.__numItems -= 1\n",
    "\t\t\treturn retItem\n",
    "\t\telse:\n",
    "\t\t\treturn None\n",
    "\n",
    "\tdef remove(self, x):\n",
    "\t\t(prev, curr) = self.__findNode(x)\n",
    "\t\tif curr != None:\n",
    "\t\t\tprev.next = curr.next\n",
    "\t\t\tif curr == self.__tail:\n",
    "\t\t\t\tself.__tail = prev\n",
    "\t\t\tself.__numItems -= 1\n",
    "\t\t\treturn x\n",
    "\t\telse:\n",
    "\t\t\treturn None\n",
    "\n",
    "\tdef get(self, *args):\n",
    "\t# 가변 파라미터. 인자가 없거나 -1이면 마지막 원소로 처리하기 위함. 파이썬 리스트 규칙 만족\n",
    "\t\tif self.isEmpty():\n",
    "\t\t\treturn None\n",
    "\t\t# 인덱스 i 결정\n",
    "\t\tif len(args) != 0: # pop(k)과 같이 인자가 있으면 i = k 할당\n",
    "\t\t\ti = args[0]\n",
    "\t\tif len(args) == 0 or i == -1:# pop()에 인자가 없거나 pop(-1)이면 i에 맨 끝 인덱스 할당\n",
    "\t\t\ti = self.__numItems - 1\n",
    "\t\t# i번 원소 리턴\n",
    "\t\tif (i >= 0 and i <= self.__numItems - 1):\n",
    "\t\t\treturn self.getNode(i).item\n",
    "\t\telse:\n",
    "\t\t\treturn None\n",
    "\n",
    "\tdef index(self, x) -> int:\n",
    "\t\tcnt = 0\n",
    "\t\tfor element in self:\n",
    "\t\t\tif element == x:\n",
    "\t\t\t\treturn cnt\n",
    "\t\t\tcnt += 1\n",
    "\t\treturn -12345\n",
    "\n",
    "\tdef isEmpty(self) -> bool:\n",
    "\t\treturn self.__numItems == 0\n",
    "\n",
    "\tdef size(self) -> int:\n",
    "\t\treturn self.__numItems\n",
    "\n",
    "\tdef clear(self):\n",
    "\t\tself.__tail = ListNode(\"dummy\", None)\n",
    "\t\tself.__tail.next = self.__tail\n",
    "\t\tself.__numItems = 0\n",
    "\n",
    "\tdef count(self, x) -> int:\n",
    "\t\tcnt = 0\n",
    "\t\tfor element in self:\n",
    "\t\t\tif element == x:\n",
    "\t\t\t\t\tcnt += 1\n",
    "\t\treturn cnt\n",
    "\n",
    "\tdef extend(self, a): # a는 순회 가능한 모든 객체\n",
    "\t\tfor x in a:\n",
    "\t\t\tself.append(x)\n",
    "\n",
    "\tdef copy(self) -> b'CircularLinkedList':\n",
    "\t\ta = CircularLinkedList()\n",
    "\t\tfor element in self:\n",
    "\t\t\ta.append(element)\n",
    "\t\treturn a\n",
    "\n",
    "\tdef reverse(self) -> None:\n",
    "\t\t__head = self.__tail.next  # 더미 헤드\n",
    "\t\tprev = __head; curr = prev.next; next = curr.next\n",
    "\t\tcurr.next = __head; __head.next = self.__tail; self.__tail = curr\n",
    "\t\tfor i in range(self.__numItems - 1):\n",
    "\t\t\tprev = curr; curr = next; next = next.next\n",
    "\t\t\tcurr.next = prev\n",
    "\n",
    "\tdef sort(self) -> None:\n",
    "\t\ta = []\n",
    "\t\tfor element in self:\n",
    "\t\t\ta.append(element)\n",
    "\t\ta.sort()\n",
    "\t\tself.clear()\n",
    "\t\tfor element in a:\n",
    "\t\t\tself.append(element)\n",
    "\n",
    "\tdef __findNode(self, x) -> (ListNode, ListNode):\n",
    "\t\t__head = prev = self.__tail.next  # 더미 헤드\n",
    "\t\tcurr = prev.next  # 0번 노드\n",
    "\t\twhile curr != __head:\n",
    "\t\t\tif curr.item == x:\n",
    "\t\t\t\treturn (prev, curr)\n",
    "\t\t\telse:\n",
    "\t\t\t\tprev = curr; curr = curr.next\n",
    "\t\treturn (None, None)\n",
    "\n",
    "\tdef getNode(self, i:int) -> ListNode:\n",
    "\t\tcurr = self.__tail.next  # 더미 헤드, index: -1\n",
    "\t\tfor index in range(i+1):\n",
    "\t\t\tcurr = curr.next\n",
    "\t\treturn curr\n",
    "\n",
    "\tdef printList(self) -> None:\n",
    "\t\tfor element in self:\n",
    "\t\t\tprint(element, end = ' ')\n",
    "\t\tprint()\n",
    "\n",
    "\tdef __iter__(self):  # generating iterator and return\n",
    "\t\treturn CircularLinkedListIterator(self)\n",
    "\n",
    "class CircularLinkedListIterator:\n",
    "\tdef __init__(self, alist):\n",
    "\t\tself.__head = alist.getNode(-1)  # 더미 헤드\n",
    "\t\tself.iterPosition = self.__head.next  # 0번 노드\n",
    "\tdef __next__(self):\n",
    "\t\tif self.iterPosition == self.__head: # 순환 끝\n",
    "\t\t\traise StopIteration\n",
    "\t\telse: # 현재 원소를 리턴하면서 다음 원소로 이동\n",
    "\t\t\titem = self.iterPosition.item\n",
    "\t\t\tself.iterPosition = self.iterPosition.next\n",
    "\t\t\treturn item"
   ]
  },
  {
   "cell_type": "markdown",
   "metadata": {
    "id": "wpiWM4JnCJpS"
   },
   "source": [
    "Demo"
   ]
  },
  {
   "cell_type": "code",
   "execution_count": null,
   "metadata": {
    "colab": {
     "base_uri": "https://localhost:8080/"
    },
    "id": "Sid0JjSKCKgH",
    "outputId": "633bc9ca-1ea2-4e9d-c340-1b36e6577286"
   },
   "outputs": [
    {
     "name": "stdout",
     "output_type": "stream",
     "text": [
      "count(3): 2\n",
      "get(2): 3\n",
      "2 3 3 4 30 20 \n"
     ]
    }
   ],
   "source": [
    "list = CircularLinkedList()\n",
    "list.append(30);\n",
    "list.insert(0, 20)\n",
    "a = [4, 3, 3, 2, 1]\n",
    "list.extend(a)\n",
    "list.reverse()\n",
    "list.pop(0)\n",
    "print(\"count(3):\", list.count(3))\n",
    "print(\"get(2):\", list.get(2))\n",
    "list.printList()"
   ]
  },
  {
   "cell_type": "code",
   "execution_count": null,
   "metadata": {
    "id": "zVPf3FauBAql"
   },
   "outputs": [],
   "source": []
  }
 ],
 "metadata": {
  "colab": {
   "include_colab_link": true,
   "provenance": []
  },
  "kernelspec": {
   "display_name": "Python 3 (ipykernel)",
   "language": "python",
   "name": "python3"
  },
  "language_info": {
   "codemirror_mode": {
    "name": "ipython",
    "version": 3
   },
   "file_extension": ".py",
   "mimetype": "text/x-python",
   "name": "python",
   "nbconvert_exporter": "python",
   "pygments_lexer": "ipython3",
   "version": "3.11.5"
  }
 },
 "nbformat": 4,
 "nbformat_minor": 4
}
