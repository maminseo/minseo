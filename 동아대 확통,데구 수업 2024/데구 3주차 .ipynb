{
 "cells": [
  {
   "cell_type": "code",
   "execution_count": 12,
   "id": "a77ab0a1-92b0-44e9-b9b1-490a15eb7ee8",
   "metadata": {
    "tags": []
   },
   "outputs": [
    {
     "ename": "NameError",
     "evalue": "name 'ListNode' is not defined",
     "output_type": "error",
     "traceback": [
      "\u001b[1;31m---------------------------------------------------------------------------\u001b[0m",
      "\u001b[1;31mNameError\u001b[0m                                 Traceback (most recent call last)",
      "Cell \u001b[1;32mIn[12], line 1\u001b[0m\n\u001b[1;32m----> 1\u001b[0m \u001b[38;5;28;01mclass\u001b[39;00m \u001b[38;5;21;01mListNode\u001b[39;00m:\n\u001b[0;32m      2\u001b[0m     \u001b[38;5;28;01mdef\u001b[39;00m \u001b[38;5;21m__init__\u001b[39m(\u001b[38;5;28mself\u001b[39m, newItem, nextNode: \u001b[38;5;124m'\u001b[39m\u001b[38;5;124mListNode\u001b[39m\u001b[38;5;124m'\u001b[39m):\n\u001b[0;32m      3\u001b[0m         \u001b[38;5;28mself\u001b[39m\u001b[38;5;241m.\u001b[39mitem \u001b[38;5;241m=\u001b[39m newItem\n",
      "Cell \u001b[1;32mIn[12], line 6\u001b[0m, in \u001b[0;36mListNode\u001b[1;34m()\u001b[0m\n\u001b[0;32m      3\u001b[0m     \u001b[38;5;28mself\u001b[39m\u001b[38;5;241m.\u001b[39mitem \u001b[38;5;241m=\u001b[39m newItem\n\u001b[0;32m      4\u001b[0m     \u001b[38;5;28mself\u001b[39m\u001b[38;5;241m.\u001b[39mnext \u001b[38;5;241m=\u001b[39m nextNode\n\u001b[1;32m----> 6\u001b[0m head\u001b[38;5;241m=\u001b[39m ListNode(\u001b[38;5;241m10\u001b[39m, \u001b[38;5;28;01mNone\u001b[39;00m)\n\u001b[0;32m      7\u001b[0m head\u001b[38;5;241m.\u001b[39mnext\u001b[38;5;241m=\u001b[39m ListNode(\u001b[38;5;241m17\u001b[39m, \u001b[38;5;28;01mNone\u001b[39;00m)\n",
      "\u001b[1;31mNameError\u001b[0m: name 'ListNode' is not defined"
     ]
    }
   ],
   "source": [
    "class ListNode:\n",
    "    def __init__(self, newItem, nextNode: 'ListNode'):\n",
    "        self.item = newItem\n",
    "        self.next = nextNode\n",
    "    \n",
    "    head= ListNode(10, None)\n",
    "    head.next= ListNode(17, None)"
   ]
  },
  {
   "cell_type": "code",
   "execution_count": 13,
   "id": "78e2b277-00d4-4eb4-9c3e-447606df20fb",
   "metadata": {
    "tags": []
   },
   "outputs": [],
   "source": [
    "class LinkedListBasic:\n",
    "    def __init__(self):\n",
    "        self.__head = ListNode('dummy',None)\n",
    "        self.__numitems = 0\n",
    "        \n",
    "    def insert(self, i:int, newItem):\n",
    "        if i >= 0 and i <= self.__newItems:\n",
    "            prev = self.__getNode(i-1)\n",
    "            newNode = ListNode(newItem, prev.next)\n",
    "            prev.next = newNode\n",
    "            self.__numItem += 1\n",
    "        else:\n",
    "         print(\"index\", i, \"i out of bound in insert()\")     \n",
    "               "
   ]
  },
  {
   "cell_type": "code",
   "execution_count": null,
   "id": "e2ba049e-25a2-4be2-9a74-6fa0d4405619",
   "metadata": {},
   "outputs": [],
   "source": []
  },
  {
   "cell_type": "code",
   "execution_count": null,
   "id": "00ddfd72-199a-49c4-b544-e09dc10ca32c",
   "metadata": {},
   "outputs": [],
   "source": []
  },
  {
   "cell_type": "code",
   "execution_count": null,
   "id": "41083fb9-40d9-4f48-9cfb-cb277a2f3c90",
   "metadata": {},
   "outputs": [],
   "source": []
  },
  {
   "cell_type": "code",
   "execution_count": null,
   "id": "1e06ffc3-c88a-4b0b-95c1-118d241ace70",
   "metadata": {},
   "outputs": [],
   "source": []
  },
  {
   "cell_type": "code",
   "execution_count": null,
   "id": "e30226a1-6769-4f38-bdcb-2a34e9c205cd",
   "metadata": {},
   "outputs": [],
   "source": []
  },
  {
   "cell_type": "code",
   "execution_count": null,
   "id": "31c15672-a618-42ab-a473-fb92c876cbb1",
   "metadata": {},
   "outputs": [],
   "source": []
  },
  {
   "cell_type": "code",
   "execution_count": null,
   "id": "abdd4ccd-50bb-4e71-abb4-596803906254",
   "metadata": {},
   "outputs": [],
   "source": []
  },
  {
   "cell_type": "code",
   "execution_count": null,
   "id": "230b09ae-74ab-4928-90ed-32b3e45f6723",
   "metadata": {},
   "outputs": [],
   "source": []
  },
  {
   "cell_type": "code",
   "execution_count": null,
   "id": "dcb0cd90-3811-484f-9068-4c962b2a33fe",
   "metadata": {},
   "outputs": [],
   "source": []
  },
  {
   "cell_type": "code",
   "execution_count": null,
   "id": "a74d90c1-39bb-470f-a9d7-7c3c8158324b",
   "metadata": {},
   "outputs": [],
   "source": []
  }
 ],
 "metadata": {
  "kernelspec": {
   "display_name": "Python 3 (ipykernel)",
   "language": "python",
   "name": "python3"
  },
  "language_info": {
   "codemirror_mode": {
    "name": "ipython",
    "version": 3
   },
   "file_extension": ".py",
   "mimetype": "text/x-python",
   "name": "python",
   "nbconvert_exporter": "python",
   "pygments_lexer": "ipython3",
   "version": "3.11.5"
  }
 },
 "nbformat": 4,
 "nbformat_minor": 5
}
