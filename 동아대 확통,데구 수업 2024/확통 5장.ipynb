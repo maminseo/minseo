{
 "cells": [
  {
   "cell_type": "code",
   "execution_count": 1,
   "id": "163784fc-30d2-4e13-9f1b-55a336975f54",
   "metadata": {},
   "outputs": [
    {
     "data": {
      "image/png": "[encoded data removed]",
      "text/plain": [
       "<Figure size 640x480 with 1 Axes>"
      ]
     },
     "metadata": {},
     "output_type": "display_data"
    }
   ],
   "source": [
    "#16p\n",
    "import numpy as np \n",
    "from matplotlib import pyplot as plt\n",
    "from scipy.stats import t\n",
    "\n",
    "df=2\n",
    "\n",
    "x= np.arange(-4, 4, 0.01)\n",
    "y= t.pdf(x, df)\n",
    "\n",
    "plt.bar(x, y)\n",
    "plt.xlabel('X')\n",
    "plt.ylabel('f(X)')\n",
    "plt.title('tdistribution(df=2)')\n",
    "plt.show()"
   ]
  },
  {
   "cell_type": "code",
   "execution_count": 2,
   "id": "471b71b1-adef-4c1b-9093-977c7d6484a4",
   "metadata": {},
   "outputs": [
    {
     "name": "stdout",
     "output_type": "stream",
     "text": [
      "평균 9.4\n",
      "표본분산 1.0399999999999998\n",
      "표본불편분산 1.2999999999999998\n"
     ]
    }
   ],
   "source": [
    "#표본불편분산 구하기\n",
    "\n",
    "import numpy as np\n",
    "\n",
    "x = np.array([9,8,9,10,11])\n",
    "\n",
    "print('평균', np.mean(x)) #9.4\n",
    "print('표본분산', np.var(x)) #1.04\n",
    "print('표본불편분산', np.var(x,ddof=1)) #1.30"
   ]
  },
  {
   "cell_type": "code",
   "execution_count": 1,
   "id": "40ddd80e-44d0-4d72-9f68-f40f8ab8f0ad",
   "metadata": {},
   "outputs": [
    {
     "name": "stdout",
     "output_type": "stream",
     "text": [
      "자유도10 ==> 0.6591068676979399\n",
      "자유도30 ==> 0.6746913845739702\n",
      "자유도50 ==> 0.6778743548997552\n",
      "자유도100 ==> 0.6802758442158763\n",
      "자유도10 ==> 0.6708981799175129\n"
     ]
    }
   ],
   "source": [
    "#확인문제 4\n",
    "\n",
    "import numpy as np\n",
    "from scipy.stats import norm\n",
    "from scipy.stats import t\n",
    "\n",
    "print('자유도10 ==>', t.cdf(1, df=10) - t.cdf(-1, df = 10)) \n",
    "print('자유도30 ==>', t.cdf(1, df=30) - t.cdf(-1, df = 30)) \n",
    "print('자유도50 ==>', t.cdf(1, df=50) - t.cdf(-1, df = 50)) \n",
    "print('자유도100 ==>', t.cdf(1, df=100) - t.cdf(-1, df = 100)) \n",
    "\n",
    "print('자유도10 ==>', norm.cdf(1, 0, 1) - t.cdf(-1, df = 10)) \n"
   ]
  },
  {
   "cell_type": "code",
   "execution_count": 2,
   "id": "d23c3f3b-8f38-4638-ad04-13a597051a3c",
   "metadata": {},
   "outputs": [
    {
     "name": "stdout",
     "output_type": "stream",
     "text": [
      "1.959963984540054\n"
     ]
    }
   ],
   "source": [
    "#5.2장 13p\n",
    "\n",
    "from scipy.stats import norm\n",
    "\n",
    "mu = 0\n",
    "sigma = 1\n",
    "\n",
    "print(norm.ppf(0.975,mu,sigma))"
   ]
  },
  {
   "cell_type": "code",
   "execution_count": 9,
   "id": "43fcb592-7c7c-4737-bf20-2770fd683af8",
   "metadata": {},
   "outputs": [
    {
     "name": "stdout",
     "output_type": "stream",
     "text": [
      "1.959963984540054\n",
      "하한 68.7369154107804\n",
      "상한 72.06308458921961\n",
      "(68.7369154107804, 72.06308458921961)\n",
      "2.5758293035489004\n",
      "하한 68.21433635873787\n",
      "상한 72.58566364126214\n",
      "(68.21433635873787, 72.58566364126214)\n"
     ]
    }
   ],
   "source": [
    "#확인문제 14\n",
    "\n",
    "import numpy as np\n",
    "from scipy.stats import norm\n",
    "\n",
    "n = 50\n",
    "m = 70.4\n",
    "s = 6\n",
    "sem = s / np.sqrt(n) # sem : 표준오차 = 표준편차 / 루트 표본크기\n",
    "\n",
    "#신뢰수준 95% 구하기\n",
    "zu = norm.ppf(0.975,0,1) # 오른쪽구간:Zu 왼쪽구간:Zl\n",
    "print(zu)\n",
    "\n",
    "#직접 하한,상한 계산\n",
    "print('하한', m - zu * sem)\n",
    "print('상한', m + zu * sem)\n",
    "\n",
    "#파이썬 norm 이용 한번에 하한,상한 구하기\n",
    "print(norm.interval(0.95, loc = m, scale = sem)) \n",
    "\n",
    "\n",
    "#신뢰수준 99% 구하기\n",
    "zu = norm.ppf(0.995,0,1) \n",
    "print(zu)\n",
    "\n",
    "print('하한', m - zu * sem)\n",
    "print('상한', m + zu * sem)\n",
    "\n",
    "print(norm.interval(0.99, loc = m, scale = sem)) \n",
    "\n",
    "# 95% 범위 68.74 ~ 72.06\n",
    "# 99% 범위 68.21 ~ 72.59\n",
    "# 항상 99%의 범위가 95%의 범위보다 넓다"
   ]
  },
  {
   "cell_type": "code",
   "execution_count": null,
   "id": "7cdbdbe4-d7d9-4dcc-831c-999ac8c44e41",
   "metadata": {},
   "outputs": [],
   "source": []
  }
 ],
 "metadata": {
  "kernelspec": {
   "display_name": "Python 3 (ipykernel)",
   "language": "python",
   "name": "python3"
  },
  "language_info": {
   "codemirror_mode": {
    "name": "ipython",
    "version": 3
   },
   "file_extension": ".py",
   "mimetype": "text/x-python",
   "name": "python",
   "nbconvert_exporter": "python",
   "pygments_lexer": "ipython3",
   "version": "3.11.5"
  }
 },
 "nbformat": 4,
 "nbformat_minor": 5
}
