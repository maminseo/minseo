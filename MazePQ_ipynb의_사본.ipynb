{
  "nbformat": 4,
  "nbformat_minor": 0,
  "metadata": {
    "colab": {
      "provenance": [],
      "include_colab_link": true
    },
    "kernelspec": {
      "name": "python3",
      "display_name": "Python 3"
    },
    "language_info": {
      "name": "python"
    }
  },
  "cells": [
    {
      "cell_type": "markdown",
      "metadata": {
        "id": "view-in-github",
        "colab_type": "text"
      },
      "source": [
        "<a href=\"https://colab.research.google.com/github/maminseo/minseo/blob/main/MazePQ_ipynb%EC%9D%98_%EC%82%AC%EB%B3%B8.ipynb\" target=\"_parent\"><img src=\"https://colab.research.google.com/assets/colab-badge.svg\" alt=\"Open In Colab\"/></a>"
      ]
    },
    {
      "cell_type": "markdown",
      "source": [
        "Priority Queue"
      ],
      "metadata": {
        "id": "UydZIYEi51fC"
      }
    },
    {
      "cell_type": "code",
      "execution_count": null,
      "metadata": {
        "id": "75y3sOH55fxS"
      },
      "outputs": [],
      "source": [
        "class PriorityQueue :\n",
        "    def __init__( self, capacity = 10 ) :\n",
        "        self.capacity = capacity        # 용량(고정)\n",
        "        self.array = [None] * capacity  # 요소들을 저장할 배열\n",
        "        self.size = 0                   # 후단의 인덱스\n",
        "\n",
        "    def isEmpty( self ) :\n",
        "       return self.size == 0\n",
        "\n",
        "    def isFull( self ) :\n",
        "       return self.size == self.capacity\n",
        "\n",
        "    def enqueue( self, e ):\n",
        "        if not self.isFull():\n",
        "            self.array[self.size] = e\n",
        "            self.size += 1\n",
        "\n",
        "    def findMaxIndex( self ):\n",
        "        if self.isEmpty(): return -1\n",
        "        highest = 0\n",
        "        for i in range(1, self.size) :\n",
        "            if self.array[i] > self.array[highest] :\n",
        "                highest = i\n",
        "        return highest\n",
        "\n",
        "    def dequeue( self ):\n",
        "        highest = self.findMaxIndex()\n",
        "        if highest != -1 :\n",
        "            self.size -= 1\n",
        "            self.array[highest], self.array[self.size] = \\\n",
        "                self.array[self.size], self.array[highest]\n",
        "            return self.array[self.size]\n",
        "\n",
        "    def peek( self ):\n",
        "        highest = self.findMaxIndex()\n",
        "        if highest != -1 :\n",
        "            return self.array[height]\n",
        "\n",
        "    def __str__(self):\n",
        "        return str(self.array[0:self.size])"
      ]
    },
    {
      "cell_type": "markdown",
      "source": [
        "(x,y)가 갈 수 있는 방인지 검사하는 함수"
      ],
      "metadata": {
        "id": "JjP-dxS-FrFp"
      }
    },
    {
      "cell_type": "code",
      "source": [
        "def isValidPos(x, y) :\t\t# (x,y)가 갈 수 있는 방인지 검사하는 함수\n",
        "    if 0 <= x < MAZE_SIZE and 0 <= y < MAZE_SIZE :\n",
        "        if map[y][x] == '0' or map[y][x] == 'x':\n",
        "            return True\n",
        "    return False"
      ],
      "metadata": {
        "id": "fE53mpahFxZ2"
      },
      "execution_count": null,
      "outputs": []
    },
    {
      "cell_type": "markdown",
      "source": [
        "현재위치(x,y)에서 출구까지의 거리를 계산하는 함수"
      ],
      "metadata": {
        "id": "2XQE7gfXF2GC"
      }
    },
    {
      "cell_type": "code",
      "source": [
        "import math\n",
        "(ox,oy) = (5, 4)                      # 출구의 위치\n",
        "def dist(x,y) :                       #출구(ox,oy)로부터의 현재위치(x,y)까지의 거리계산\n",
        "    (dx, dy) = (ox-x, oy-y)\n",
        "    return -math.sqrt(dx*dx + dy*dy)  # (x,y)와 (ox,oy)의 유클리디안 거리"
      ],
      "metadata": {
        "id": "a9H4AgNdF0eX"
      },
      "execution_count": null,
      "outputs": []
    },
    {
      "cell_type": "markdown",
      "source": [
        "전략적 미로 탐색 함수"
      ],
      "metadata": {
        "id": "R2B7EXItHKou"
      }
    },
    {
      "cell_type": "code",
      "source": [
        "def MySmartSearch() :               # 최소거리 전략의 미로탐색\n",
        "    q = PriorityQueue()             # 우선순위 큐 객체생성\n",
        "    q.enqueue((0,1,dist(0,1)))      # 튜플에 거리정보 추가, dist가 우선순위를 결정\n",
        "    print('PQueue: ')\n",
        "\n",
        "    while not q.isEmpty():\n",
        "        here = q.dequeue()          # 현재위치(우선순위큐에서 front에 있는 원소, -dist가 가장 큰 원소)\n",
        "        print(here[0:2], end='->')  # (x,y,-d)에서 (x,y)만 출력\n",
        "        x,y,_ = here;               # (x,y,-d)에서 (x,y,_)\n",
        "        if (map[y][x] == 'x') : return True\n",
        "        else :\n",
        "            map[y][x] = '.'\n",
        "            if isValidPos(x, y - 1) : q.enqueue((x, y - 1, dist(x, y - 1))) # 상\n",
        "            if isValidPos(x, y + 1) : q.enqueue((x, y + 1, dist(x, y + 1))) # 하\n",
        "            if isValidPos(x - 1, y) : q.enqueue((x - 1, y, dist(x - 1, y))) # 좌\n",
        "            if isValidPos(x + 1, y) : q.enqueue((x + 1, y, dist(x + 1, y))) # 우\n",
        "\n",
        "        print('우선순위큐: ', q)\n",
        "\n",
        "    return False"
      ],
      "metadata": {
        "id": "nNVdl4_gHThN"
      },
      "execution_count": null,
      "outputs": []
    },
    {
      "cell_type": "markdown",
      "source": [
        "Test"
      ],
      "metadata": {
        "id": "9tvtZ9VsInuA"
      }
    },
    {
      "cell_type": "code",
      "source": [
        "map = [ [ '1', '1', '1', '1', '1', '1' ],\n",
        "\t    [ 'e', '0', '1', '0', '0', '1' ],\n",
        "\t    [ '1', '0', '0', '0', '1', '1' ],\n",
        "\t    [ '1', '0', '1', '0', '1', '1' ],\n",
        "\t    [ '1', '0', '1', '0', '0', 'x' ],\n",
        "\t    [ '1', '1', '1', '1', '1', '1' ]]\n",
        "MAZE_SIZE = 6\n",
        "\n",
        "result = MySmartSearch()\n",
        "if result : print(' --> 미로탐색 성공')\n",
        "else : print(' --> 미로탐색 실패')"
      ],
      "metadata": {
        "colab": {
          "base_uri": "https://localhost:8080/"
        },
        "id": "ZdCWyx5hIo5X",
        "outputId": "f3a84537-5fd9-46c2-aa48-b9b1aaafe7d8"
      },
      "execution_count": null,
      "outputs": [
        {
          "output_type": "stream",
          "name": "stdout",
          "text": [
            "PQueue: \n",
            "(0, 1)->우선순위큐:  [(1, 1, -5.0)]\n",
            "(1, 1)->우선순위큐:  [(1, 2, -4.47213595499958)]\n",
            "(1, 2)->우선순위큐:  [(1, 3, -4.123105625617661), (2, 2, -3.605551275463989)]\n",
            "(2, 2)->우선순위큐:  [(1, 3, -4.123105625617661), (3, 2, -2.8284271247461903)]\n",
            "(3, 2)->우선순위큐:  [(1, 3, -4.123105625617661), (3, 1, -3.605551275463989), (3, 3, -2.23606797749979)]\n",
            "(3, 3)->우선순위큐:  [(1, 3, -4.123105625617661), (3, 1, -3.605551275463989), (3, 4, -2.0)]\n",
            "(3, 4)->우선순위큐:  [(1, 3, -4.123105625617661), (3, 1, -3.605551275463989), (4, 4, -1.0)]\n",
            "(4, 4)->우선순위큐:  [(1, 3, -4.123105625617661), (3, 1, -3.605551275463989), (5, 4, -0.0)]\n",
            "(5, 4)-> --> 미로탐색 성공\n"
          ]
        }
      ]
    }
  ]
}