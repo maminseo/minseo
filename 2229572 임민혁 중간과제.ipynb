{
 "cells": [
  {
   "cell_type": "code",
   "execution_count": 1,
   "metadata": {},
   "outputs": [
    {
     "name": "stdout",
     "output_type": "stream",
     "text": [
      "Hello World!\n"
     ]
    }
   ],
   "source": [
    "print(\"Hello World!\")"
   ]
  },
  {
   "cell_type": "code",
   "execution_count": 2,
   "metadata": {},
   "outputs": [
    {
     "name": "stdout",
     "output_type": "stream",
     "text": [
      "14\n",
      "6\n",
      "40\n",
      "2\n",
      "2\n",
      "10000\n"
     ]
    }
   ],
   "source": [
    "a=10\n",
    "b=4\n",
    "print(a+b)\n",
    "print(a-b)\n",
    "print(a*b)\n",
    "print(a%b)\n",
    "print(a//b)\n",
    "print(a**b)"
   ]
  },
  {
   "cell_type": "code",
   "execution_count": 3,
   "metadata": {},
   "outputs": [
    {
     "name": "stdout",
     "output_type": "stream",
     "text": [
      "********************************************\n",
      "Department of Urban Planning and Engineering\n",
      "********************************************\n"
     ]
    }
   ],
   "source": [
    "a='*'*44\n",
    "b='Department of Urban Planning and Engineering'\n",
    "c='*'*44\n",
    "print(a)\n",
    "print(b)\n",
    "print(c)"
   ]
  },
  {
   "cell_type": "code",
   "execution_count": 4,
   "metadata": {},
   "outputs": [
    {
     "name": "stdout",
     "output_type": "stream",
     "text": [
      "1. C++\n",
      "2. Python\n",
      "3. Java\n",
      "4. IDL\n",
      "5. Perl\n"
     ]
    }
   ],
   "source": [
    "print('1. C++\\n2. Python\\n3. Java\\n4. IDL\\n5. Perl')"
   ]
  },
  {
   "cell_type": "code",
   "execution_count": 5,
   "metadata": {},
   "outputs": [
    {
     "name": "stdout",
     "output_type": "stream",
     "text": [
      "Urban Planning\n"
     ]
    }
   ],
   "source": [
    "major='Department of Urban Planning'\n",
    "print(major[14:])"
   ]
  },
  {
   "cell_type": "code",
   "execution_count": 6,
   "metadata": {},
   "outputs": [
    {
     "name": "stdout",
     "output_type": "stream",
     "text": [
      "나의 이름은 임민혁입니다. 제 전공은 도시공학과입니다.\n"
     ]
    }
   ],
   "source": [
    "name=\"임민혁\"\n",
    "major=\"도시공학과\"\n",
    "introduction=\"나의 이름은 %s입니다. 제 전공은 %s입니다.\"%(name,major)\n",
    "print(introduction)"
   ]
  },
  {
   "cell_type": "code",
   "execution_count": 7,
   "metadata": {},
   "outputs": [
    {
     "data": {
      "text/plain": [
       "'코딩의 기초와 문제 해결'"
      ]
     },
     "execution_count": 7,
     "metadata": {},
     "output_type": "execute_result"
    }
   ],
   "source": [
    "course='코딩의.기초와.문제.해결'\n",
    "course.replace('.',' ')"
   ]
  },
  {
   "cell_type": "code",
   "execution_count": 14,
   "metadata": {},
   "outputs": [
    {
     "name": "stdout",
     "output_type": "stream",
     "text": [
      "['C++', 'Python', 'Java', 'IDL', 'Perl']\n"
     ]
    }
   ],
   "source": [
    "list=['C++','Python','Java','IDL','Perl']\n",
    "print(list)"
   ]
  },
  {
   "cell_type": "code",
   "execution_count": 15,
   "metadata": {},
   "outputs": [
    {
     "name": "stdout",
     "output_type": "stream",
     "text": [
      "['C++', 'Python', 'IDL', 'Perl', 'JavaScript']\n"
     ]
    }
   ],
   "source": [
    "list.remove('Java')\n",
    "list.append('JavaScript')\n",
    "print(list)"
   ]
  },
  {
   "cell_type": "code",
   "execution_count": 16,
   "metadata": {},
   "outputs": [
    {
     "name": "stdout",
     "output_type": "stream",
     "text": [
      "['C++', 'Python', 'IDL', 'Mojo', 'Perl', 'JavaScript']\n"
     ]
    }
   ],
   "source": [
    "list.insert(3,'Mojo')\n",
    "print(list)"
   ]
  },
  {
   "cell_type": "code",
   "execution_count": 17,
   "metadata": {},
   "outputs": [
    {
     "name": "stdout",
     "output_type": "stream",
     "text": [
      "2 4 6 8 10\n"
     ]
    }
   ],
   "source": [
    "a=[1,2,3,4,5,6,7,8,9,10]\n",
    "print(a[1],a[3],a[5],a[7],a[9])"
   ]
  },
  {
   "cell_type": "code",
   "execution_count": 18,
   "metadata": {},
   "outputs": [
    {
     "name": "stdout",
     "output_type": "stream",
     "text": [
      "[10, 9, 8, 7, 6, 5, 4, 3, 2, 1]\n"
     ]
    }
   ],
   "source": [
    "a.reverse()\n",
    "print(a)"
   ]
  },
  {
   "cell_type": "code",
   "execution_count": 19,
   "metadata": {},
   "outputs": [
    {
     "name": "stdout",
     "output_type": "stream",
     "text": [
      "{'이름': '임민혁', '학번': '2229572', '전공': '도시공학과'}\n"
     ]
    }
   ],
   "source": [
    "dic={'이름':'임민혁','학번':'2229572','전공':'도시공학과'}\n",
    "print(dic)"
   ]
  },
  {
   "cell_type": "code",
   "execution_count": 20,
   "metadata": {},
   "outputs": [
    {
     "data": {
      "text/plain": [
       "dict_values(['임민혁', '2229572', '도시공학과'])"
      ]
     },
     "execution_count": 20,
     "metadata": {},
     "output_type": "execute_result"
    }
   ],
   "source": [
    "dic.values()"
   ]
  },
  {
   "cell_type": "code",
   "execution_count": 21,
   "metadata": {},
   "outputs": [
    {
     "name": "stdout",
     "output_type": "stream",
     "text": [
      "{'이름': '임민혁', '학번': '2229572', '전공': '도시공학과', '생일': '030820'}\n"
     ]
    }
   ],
   "source": [
    "dic['생일']='030820'\n",
    "print(dic)"
   ]
  },
  {
   "cell_type": "code",
   "execution_count": 22,
   "metadata": {},
   "outputs": [
    {
     "name": "stdout",
     "output_type": "stream",
     "text": [
      "{'포카칩': ['2000원', '재고 40개'], '오징어땅콩': ['1500원', '재고 30개'], '자갈치': ['1800원', '재고 35개'], '프링글스': ['3000원', '재고 20개']}\n"
     ]
    }
   ],
   "source": [
    "list={'포카칩':['2000원','재고 40개'],'오징어땅콩':['1500원','재고 30개'],'자갈치':['1800원','재고 35개'],'프링글스':['3000원','재고 20개']}\n",
    "print(list)"
   ]
  },
  {
   "cell_type": "code",
   "execution_count": 23,
   "metadata": {},
   "outputs": [
    {
     "data": {
      "text/plain": [
       "'1800원'"
      ]
     },
     "execution_count": 23,
     "metadata": {},
     "output_type": "execute_result"
    }
   ],
   "source": [
    "list['자갈치'][0]"
   ]
  },
  {
   "cell_type": "code",
   "execution_count": 24,
   "metadata": {},
   "outputs": [
    {
     "name": "stdout",
     "output_type": "stream",
     "text": [
      "걸어가라.\n"
     ]
    }
   ],
   "source": [
    "money=5000\n",
    "if money>=6000:\n",
    "    print('택시를 타고 가라.')\n",
    "else:\n",
    "    print('걸어가라.')\n",
    "#내가 가진 5000원을 money라는 변수에 적었고 6000원 이상의 돈을 가지고 있으면 택시를 타고 가라 였기 때문에 6000원이 있거나 그 이상이여서 '>='를 썼고\n",
    "#만약 6000원보다 적은 돈이면 걸어가라는 조건을 만족시키기 위해 else 를 썼습니다."
   ]
  },
  {
   "cell_type": "code",
   "execution_count": 25,
   "metadata": {},
   "outputs": [
    {
     "name": "stdout",
     "output_type": "stream",
     "text": [
      "택시 타고 가라.\n"
     ]
    }
   ],
   "source": [
    "pocket=['money','cellphone','card']\n",
    "if 'money' or 'card'in pocket:\n",
    "    print('택시 타고 가라.')\n",
    "else:\n",
    "    print('걸어가라.')\n",
    "# 만약 money 또는 card 였기때문에 or을 써줬고, pocket 이라는 변수 안에 있기때문에 in pocket을 썼습니다.\n",
    "# money, card가 없을 수 도 있기 때문에 else '걸어가라' 를 입력 하였습니다."
   ]
  },
  {
   "cell_type": "code",
   "execution_count": 2,
   "metadata": {},
   "outputs": [
    {
     "name": "stdout",
     "output_type": "stream",
     "text": [
      "고령 사회\n"
     ]
    }
   ],
   "source": [
    "ratio=int(input())\n",
    "if 7<ratio<14:\n",
    "    print('고령화 사회')\n",
    "elif 14<ratio<20:\n",
    "    print('고령 사회')\n",
    "else:\n",
    "    print('초고령 사회')\n",
    "# 3가지 경우였기 때문에 첫번째 경우=if 7~14미만 이여서 7<ratio<14, 두번째 경우=elif 14~20미만 이여서 14<ratio<20, \n",
    "#마지막 어디에도 해당이 안되는 경우=else 를 사용하였습니다."
   ]
  },
  {
   "cell_type": "code",
   "execution_count": 3,
   "metadata": {},
   "outputs": [
    {
     "name": "stdout",
     "output_type": "stream",
     "text": [
      "제 3사분면\n"
     ]
    }
   ],
   "source": [
    "x=int(input())\n",
    "y=int(input())\n",
    "if x>0 and y>0:\n",
    "    print('제 1사분면')\n",
    "elif x>0 and y<0:\n",
    "    print('제 4사분면')\n",
    "elif x<0 and y>0:\n",
    "    print('제 2사분면')\n",
    "else:\n",
    "    print('제 3사분면')\n",
    "# 제 1 사분면으로 예를 들면 제 1사분면은 x, y 둘다 0보다 커야 하기 때문에 and를 사용 하였고 2사분면도 똑같이 x는 0보다 크고, y는 0보다 작아야만 성립하기\n",
    "# 때문에 똑같이 and를 써주고 마지막 3사분면은 위 조건들 중에 아무 조건도 해당 되지 않을 시 출력을 하게 else를 썼습니다. "
   ]
  },
  {
   "cell_type": "code",
   "execution_count": 4,
   "metadata": {},
   "outputs": [
    {
     "name": "stdout",
     "output_type": "stream",
     "text": [
      "55\n"
     ]
    }
   ],
   "source": [
    "a=1\n",
    "total=0\n",
    "while a<=10:\n",
    "    total=total+a\n",
    "    a=a+1\n",
    "print(total)\n",
    "# 1부터 더해야 해서 'a=1'이라는 변수를 썼고, a의 값이 +1 될때(a=a+1) 마다 total에 저장하고 a가 10이랑 같아질때(a<=10) total에 저장해둔 값이랑  \n",
    "#+1되는 a까지 더해야 해서 'total=total+a'를 사용"
   ]
  },
  {
   "cell_type": "code",
   "execution_count": 5,
   "metadata": {},
   "outputs": [
    {
     "name": "stdout",
     "output_type": "stream",
     "text": [
      "70.0\n",
      "49.0\n",
      "34.3\n",
      "24.009999999999998\n",
      "16.807\n",
      "11.764899999999999\n",
      "8.23543\n",
      "5.764800999999999\n",
      "4.035360699999999\n",
      "2.8247524899999994\n",
      "1.9773267429999994\n"
     ]
    }
   ],
   "source": [
    "height=100\n",
    "bounce=7/10\n",
    "i=0\n",
    "while i<=10:\n",
    "    i=i+1\n",
    "    height=height*bounce\n",
    "    print(height)\n",
    "#높이, 땅에 닿는 횟수, 튀어오름 까지 변수로 적용후 i가 10이 될때까지 계속 반복 하기 때문에 두번째 값이 반복될 때 첫번째 값인 높이 70이 height자리에 들어가서\n",
    "# 70*7/10이 되고 이 횟수가 i가 10이 될 때까지 반복합니다."
   ]
  },
  {
   "cell_type": "code",
   "execution_count": 6,
   "metadata": {},
   "outputs": [
    {
     "name": "stdout",
     "output_type": "stream",
     "text": [
      "820 82.0\n"
     ]
    }
   ],
   "source": [
    "a=[65,75,85,90,100,95,100,60,70,80]\n",
    "total=0\n",
    "for i in a:\n",
    "    total=total+i\n",
    "average=total/10\n",
    "print(total,average)\n",
    "#리스트에 숫자들을 계속 더해서 저장 해놓을 total이라는 변수 생성(total=total+i)\n",
    "#마지막 값만 출력하고 싶기 때문에 average와 print를 for문에 입력하지 않았습니다.\n",
    "#average는 다 더한 값에서 나누기 10"
   ]
  },
  {
   "cell_type": "code",
   "execution_count": 7,
   "metadata": {},
   "outputs": [
    {
     "name": "stdout",
     "output_type": "stream",
     "text": [
      "1988\n",
      "1992\n",
      "1996\n",
      "2000\n",
      "2004\n",
      "2008\n",
      "2012\n",
      "2016\n",
      "2020\n",
      "2024\n",
      "2028\n"
     ]
    }
   ],
   "source": [
    "for year in range(1988,2031,4):\n",
    "    print(year)\n",
    "# 1988년부터 2030년까지이기 때문에 두번째에 2031까지 입력하였고, 4년마다 한번이기 때문에 숫자 간격은 4 여서 3번째 란에 4를 넣었습니다."
   ]
  },
  {
   "cell_type": "code",
   "execution_count": 8,
   "metadata": {},
   "outputs": [
    {
     "name": "stdout",
     "output_type": "stream",
     "text": [
      "3\n",
      "6\n",
      "9\n",
      "12\n",
      "15\n",
      "18\n",
      "21\n",
      "24\n",
      "27\n"
     ]
    }
   ],
   "source": [
    "i=int(input())\n",
    "for j in range(1,10):\n",
    "    print(i*j)\n",
    "#1부터 9까지 곱하고 싶기 때문에 숫자간격을 (1,10)으로 설정, 만약 i가 3이라면 1부터 3을 9까지 곱하기 때문에 구구단 3단이 됩니다."
   ]
  },
  {
   "cell_type": "code",
   "execution_count": null,
   "metadata": {},
   "outputs": [],
   "source": []
  }
 ],
 "metadata": {
  "kernelspec": {
   "display_name": "Python 3",
   "language": "python",
   "name": "python3"
  },
  "language_info": {
   "codemirror_mode": {
    "name": "ipython",
    "version": 3
   },
   "file_extension": ".py",
   "mimetype": "text/x-python",
   "name": "python",
   "nbconvert_exporter": "python",
   "pygments_lexer": "ipython3",
   "version": "3.12.0"
  }
 },
 "nbformat": 4,
 "nbformat_minor": 2
}
