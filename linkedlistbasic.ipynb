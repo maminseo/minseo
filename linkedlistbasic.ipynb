{
  "nbformat": 4,
  "nbformat_minor": 0,
  "metadata": {
    "colab": {
      "provenance": [],
      "include_colab_link": true
    },
    "kernelspec": {
      "name": "python3",
      "display_name": "Python 3"
    },
    "language_info": {
      "name": "python"
    }
  },
  "cells": [
    {
      "cell_type": "markdown",
      "metadata": {
        "id": "view-in-github",
        "colab_type": "text"
      },
      "source": [
        "<a href=\"https://colab.research.google.com/github/maminseo/minseo/blob/main/linkedlistbasic.ipynb\" target=\"_parent\"><img src=\"https://colab.research.google.com/assets/colab-badge.svg\" alt=\"Open In Colab\"/></a>"
      ]
    },
    {
      "cell_type": "markdown",
      "source": [
        "List Node Class"
      ],
      "metadata": {
        "id": "pCx0LsVtyveT"
      }
    },
    {
      "cell_type": "code",
      "execution_count": null,
      "metadata": {
        "id": "apWo5brnysS6"
      },
      "outputs": [],
      "source": [
        "class ListNode:\n",
        "\tdef __init__(self, newItem, nextNode:'ListNode'):\n",
        "\t\tself.item = newItem\n",
        "\t\tself.next = nextNode"
      ]
    },
    {
      "cell_type": "markdown",
      "source": [
        "Linked List Basic"
      ],
      "metadata": {
        "id": "6bNClK_2Bt97"
      }
    },
    {
      "cell_type": "code",
      "source": [
        "class LinkedListBasic:\n",
        "\tdef __init__(self):\n",
        "\t\tself.__head = ListNode('dummy', None)\n",
        "\t\tself.__numItems = 0\n",
        "\n",
        "\t# [알고리즘 5 - 2] 구현: 연결 리스트에 원소 삽입하기(더미 헤드를 두는 대표 버전)\n",
        "\tdef insert(self, i:int, newItem):\n",
        "\t\tif i >= 0 and i <= self.__numItems:\n",
        "\t\t\tprev = self.__getNode(i - 1)\n",
        "\t\t\tnewNode = ListNode(newItem, prev.next)\n",
        "\t\t\tprev.next = newNode\n",
        "\t\t\tself.__numItems += 1\n",
        "\t\telse:\n",
        "\t\t\tprint(\"index\", i, \": out of bound in insert()\") # 필요 시 에러 처리\n",
        "\n",
        "\tdef append(self, newItem):\n",
        "\t\tprev = self.__getNode(self.__numItems - 1)\n",
        "\t\tnewNode = ListNode(newItem, prev.next)\n",
        "\t\tprev.next = newNode\n",
        "\t\tself.__numItems += 1\n",
        "\n",
        "\t# [알고리즘 5-3] 구현: 연결 리스트의 원소 삭제하기\n",
        "\tdef pop(self, i:int):   # i번 노드 삭제. 고정 파라미터\n",
        "\t\tif (i >= 0 and i <= self.__numItems-1):\n",
        "\t\t\tprev = self.__getNode(i - 1)\n",
        "\t\t\tcurr = prev.next\n",
        "\t\t\tprev.next = curr.next\n",
        "\t\t\tretItem = curr.item\n",
        "\t\t\tself.__numItems -= 1\n",
        "\t\t\treturn retItem\n",
        "\t\telse:\n",
        "\t\t\treturn None\n",
        "\n",
        "\t# [알고리즘 5 -4] 구현: 연결 리스트의 원소 x 삭제하기 (더미 헤드를 두는 대표 버전)\n",
        "\tdef remove(self, x):\n",
        "\t\t(prev, curr) = self.__findNode(x)\n",
        "\t\tif curr != None:\n",
        "\t\t\tprev.next = curr.next\n",
        "\t\t\tself.__numItems -= 1\n",
        "\t\t\treturn x\n",
        "\t\telse:\n",
        "\t\t\treturn None\n",
        "\n",
        "\t# [알고리즘 5 - 5] 구현: 연결 리스트의 i번 원소 알려주기\n",
        "\tdef get(self, i:int):\n",
        "\t\tif self.isEmpty():\n",
        "\t\t\treturn None\n",
        "\t\tif (i >= 0 and i <= self.__numItems - 1):\n",
        "\t\t\treturn self.__getNode(i).item\n",
        "\t\telse:\n",
        "\t\t\treturn None\n",
        "\n",
        "\t# [알고리즘 5 -7] 구현: x가 연결 리스트의 몇 번 원소인지 알려주기\n",
        "\tdef index(self, x) -> int:\n",
        "\t\tcurr = self.__head.next\t # 0번 노드:  더미 헤드 다음 노드\n",
        "\t\tfor index in range(self.__numItems):\n",
        "\t\t\tif curr.item == x:\n",
        "\t\t\t\treturn index\n",
        "\t\t\telse:\n",
        "\t\t\t\tcurr = curr.next\n",
        "\t\treturn -2 # 안 쓰는 인덱스\n",
        "\n",
        "\t# [알고리즘 5 -8] 구현: 기타 작업들\n",
        "\tdef isEmpty(self) -> bool:\n",
        "\t\treturn self.__numItems == 0\n",
        "\n",
        "\tdef size(self) -> int:\n",
        "\t\treturn self.__numItems\n",
        "\n",
        "\tdef clear(self):\n",
        "\t\tself.__head = ListNode(\"dummy\", None)\n",
        "\t\tself.__numItems = 0\n",
        "\n",
        "\tdef count(self, x) -> int:\n",
        "\t\tcnt = 0\n",
        "\t\tcurr = self.__head.next  # 0번 노드\n",
        "\t\twhile curr != None:\n",
        "\t\t\tif curr.item == x:\n",
        "\t\t\t\t\tcnt += 1\n",
        "\t\t\tcurr = curr.next\n",
        "\t\treturn cnt\n",
        "\n",
        "\tdef extend(self, a): # 여기서 a는 self와 같은 타입의 리스트\n",
        "\t\tfor index in range(a.size()):\n",
        "\t\t\tself.append(a.get(index))\n",
        "\n",
        "\tdef copy(self):\n",
        "\t\ta = LinkedListBasic()\n",
        "\t\tfor index in range(self.__numItems):\n",
        "\t\t\ta.append(self.get(index))\n",
        "\t\treturn a\n",
        "\n",
        "\tdef reverse(self):\n",
        "\t\ta = LinkedListBasic()\n",
        "\t\tfor index in range(self.__numItems):\n",
        "\t\t\ta.insert(0, self.get(index))\n",
        "\t\tself.clear()\n",
        "\t\tfor index in range(a.size()):\n",
        "\t\t\tself.append(a.get(index))\n",
        "\n",
        "\tdef sort(self) -> None:\n",
        "\t\ta = []\n",
        "\t\tfor index in range(self.__numItems):\n",
        "\t\t\ta.append(self.get(index))\n",
        "\t\ta.sort()\n",
        "\t\tself.clear()\n",
        "\t\tfor index in range(len(a)):\n",
        "\t\t\tself.append(a[index])\n",
        "\n",
        "\tdef __findNode(self, x) -> (ListNode, ListNode):\n",
        "\t\tprev = self.__head  # 더미 헤드\n",
        "\t\tcurr = prev.next    # 0번 노드\n",
        "\t\twhile curr != None:\n",
        "\t\t\tif curr.item == x:\n",
        "\t\t\t\treturn (prev, curr)\n",
        "\t\t\telse:\n",
        "\t\t\t\tprev = curr; curr = curr.next\n",
        "\t\treturn (None, None)\n",
        "\n",
        "\t# [알고리즘 5-6] 구현: 연결 리스트의 i번 노드 알려주기\n",
        "\tdef __getNode(self, i:int) -> ListNode:\n",
        "\t\tcurr = self.__head # 더미 헤드, index: -1\n",
        "\t\tfor index in range(i+1):\n",
        "\t\t\tcurr = curr.next\n",
        "\t\treturn curr\n",
        "\n",
        "\tdef printList(self):\n",
        "\t\tcurr = self.__head.next # 0번 노드: 더미 헤드 다음 노드\n",
        "\t\twhile curr != None:\n",
        "\t\t\tprint(curr.item, end = ' ')\n",
        "\t\t\tcurr = curr.next\n",
        "\t\tprint()\n"
      ],
      "metadata": {
        "id": "qejO1VeizjWu"
      },
      "execution_count": null,
      "outputs": []
    },
    {
      "cell_type": "markdown",
      "source": [
        "Linked List Basic Demo"
      ],
      "metadata": {
        "id": "A4TDsDh1Bvf6"
      }
    },
    {
      "cell_type": "code",
      "source": [
        "list = LinkedListBasic()\n",
        "list.append(30);\n",
        "list.insert(0, 20)\n",
        "\n",
        "a = LinkedListBasic()\n",
        "a.append(4);\n",
        "a.append(3);\n",
        "a.append(3);\n",
        "a.append(2);\n",
        "a.append(1)\n",
        "\n",
        "list.extend(a)\n",
        "list.reverse()\n",
        "list.pop(0)\n",
        "\n",
        "print(\"count(3):\", list.count(3))\n",
        "print(\"get(2):\", list.get(2))\n",
        "list.printList()\n"
      ],
      "metadata": {
        "colab": {
          "base_uri": "https://localhost:8080/"
        },
        "id": "v67YTXeUy0yU",
        "outputId": "09b7dcd7-8d4c-4d1c-9c3e-23ba7e243f12"
      },
      "execution_count": null,
      "outputs": [
        {
          "output_type": "stream",
          "name": "stdout",
          "text": [
            "count(3): 2\n",
            "get(2): 3\n",
            "2 3 3 4 30 20 \n"
          ]
        }
      ]
    }
  ]
}